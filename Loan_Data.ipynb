{
 "cells": [
  {
   "cell_type": "markdown",
   "metadata": {},
   "source": [
    "## *Home Loan Approval - Data Analysis and Classification Modelling*\n",
    "#### WarriWes\n",
    "#### 11 April 2018\n",
    "  -----  "
   ]
  },
  {
   "cell_type": "markdown",
   "metadata": {
    "collapsed": true
   },
   "source": [
    "## Analytics Vidhya - Problem Statement\n",
    "#### About Company\n",
    "> Dream Housing Finance company deals in all home loans. They have presence across all urban, semi urban and rural areas. Customer first apply for home loan after that company validates the customer eligibility for loan.\n",
    "\n",
    "#### Problem\n",
    "> Company wants to automate the loan eligibility process (real time) based on customer detail provided while filling online application form. These details are Gender, Marital Status, Education, Number of Dependents, Income, Loan Amount, Credit History and others. To automate this process, they have given a problem to identify the customers segments, those are eligible for loan amount so that they can specifically target these customers. Here they have provided a partial data set."
   ]
  },
  {
   "cell_type": "code",
   "execution_count": 1,
   "metadata": {
    "collapsed": true
   },
   "outputs": [],
   "source": [
    "# Import necessary modules\n",
    "import pandas as pd\n",
    "import numpy as np\n",
    "import matplotlib.pyplot as plt\n",
    "import seaborn as sns\n",
    "\n",
    "sns.set(style='white')\n",
    "\n",
    "\n",
    "train = pd.read_csv('C:\\\\Users\\\\Wesley\\\\OneDrive\\\\DocuFrom5_14_16\\\\Documents\\\\2018\\\\Portfolio_Construction\\\\Loan_data_vidhya\\\\loan_data_train.csv')\n",
    "test = pd.read_csv('C:\\\\Users\\\\Wesley\\\\OneDrive\\\\DocuFrom5_14_16\\\\Documents\\\\2018\\\\Portfolio_Construction\\\\Loan_data_vidhya\\\\loan_data_test.csv')"
   ]
  },
  {
   "cell_type": "code",
   "execution_count": 2,
   "metadata": {},
   "outputs": [
    {
     "data": {
      "text/html": [
       "<div>\n",
       "<style>\n",
       "    .dataframe thead tr:only-child th {\n",
       "        text-align: right;\n",
       "    }\n",
       "\n",
       "    .dataframe thead th {\n",
       "        text-align: left;\n",
       "    }\n",
       "\n",
       "    .dataframe tbody tr th {\n",
       "        vertical-align: top;\n",
       "    }\n",
       "</style>\n",
       "<table border=\"1\" class=\"dataframe\">\n",
       "  <thead>\n",
       "    <tr style=\"text-align: right;\">\n",
       "      <th></th>\n",
       "      <th>Loan_ID</th>\n",
       "      <th>Gender</th>\n",
       "      <th>Married</th>\n",
       "      <th>Dependents</th>\n",
       "      <th>Education</th>\n",
       "      <th>Self_Employed</th>\n",
       "      <th>ApplicantIncome</th>\n",
       "      <th>CoapplicantIncome</th>\n",
       "      <th>LoanAmount</th>\n",
       "      <th>Loan_Amount_Term</th>\n",
       "      <th>Credit_History</th>\n",
       "      <th>Property_Area</th>\n",
       "      <th>Loan_Status</th>\n",
       "    </tr>\n",
       "  </thead>\n",
       "  <tbody>\n",
       "    <tr>\n",
       "      <th>0</th>\n",
       "      <td>LP001002</td>\n",
       "      <td>Male</td>\n",
       "      <td>No</td>\n",
       "      <td>0</td>\n",
       "      <td>Graduate</td>\n",
       "      <td>No</td>\n",
       "      <td>5849</td>\n",
       "      <td>0.0</td>\n",
       "      <td>NaN</td>\n",
       "      <td>360.0</td>\n",
       "      <td>1.0</td>\n",
       "      <td>Urban</td>\n",
       "      <td>Y</td>\n",
       "    </tr>\n",
       "    <tr>\n",
       "      <th>1</th>\n",
       "      <td>LP001003</td>\n",
       "      <td>Male</td>\n",
       "      <td>Yes</td>\n",
       "      <td>1</td>\n",
       "      <td>Graduate</td>\n",
       "      <td>No</td>\n",
       "      <td>4583</td>\n",
       "      <td>1508.0</td>\n",
       "      <td>128.0</td>\n",
       "      <td>360.0</td>\n",
       "      <td>1.0</td>\n",
       "      <td>Rural</td>\n",
       "      <td>N</td>\n",
       "    </tr>\n",
       "    <tr>\n",
       "      <th>2</th>\n",
       "      <td>LP001005</td>\n",
       "      <td>Male</td>\n",
       "      <td>Yes</td>\n",
       "      <td>0</td>\n",
       "      <td>Graduate</td>\n",
       "      <td>Yes</td>\n",
       "      <td>3000</td>\n",
       "      <td>0.0</td>\n",
       "      <td>66.0</td>\n",
       "      <td>360.0</td>\n",
       "      <td>1.0</td>\n",
       "      <td>Urban</td>\n",
       "      <td>Y</td>\n",
       "    </tr>\n",
       "    <tr>\n",
       "      <th>3</th>\n",
       "      <td>LP001006</td>\n",
       "      <td>Male</td>\n",
       "      <td>Yes</td>\n",
       "      <td>0</td>\n",
       "      <td>Not Graduate</td>\n",
       "      <td>No</td>\n",
       "      <td>2583</td>\n",
       "      <td>2358.0</td>\n",
       "      <td>120.0</td>\n",
       "      <td>360.0</td>\n",
       "      <td>1.0</td>\n",
       "      <td>Urban</td>\n",
       "      <td>Y</td>\n",
       "    </tr>\n",
       "    <tr>\n",
       "      <th>4</th>\n",
       "      <td>LP001008</td>\n",
       "      <td>Male</td>\n",
       "      <td>No</td>\n",
       "      <td>0</td>\n",
       "      <td>Graduate</td>\n",
       "      <td>No</td>\n",
       "      <td>6000</td>\n",
       "      <td>0.0</td>\n",
       "      <td>141.0</td>\n",
       "      <td>360.0</td>\n",
       "      <td>1.0</td>\n",
       "      <td>Urban</td>\n",
       "      <td>Y</td>\n",
       "    </tr>\n",
       "  </tbody>\n",
       "</table>\n",
       "</div>"
      ],
      "text/plain": [
       "    Loan_ID Gender Married Dependents     Education Self_Employed  \\\n",
       "0  LP001002   Male      No          0      Graduate            No   \n",
       "1  LP001003   Male     Yes          1      Graduate            No   \n",
       "2  LP001005   Male     Yes          0      Graduate           Yes   \n",
       "3  LP001006   Male     Yes          0  Not Graduate            No   \n",
       "4  LP001008   Male      No          0      Graduate            No   \n",
       "\n",
       "   ApplicantIncome  CoapplicantIncome  LoanAmount  Loan_Amount_Term  \\\n",
       "0             5849                0.0         NaN             360.0   \n",
       "1             4583             1508.0       128.0             360.0   \n",
       "2             3000                0.0        66.0             360.0   \n",
       "3             2583             2358.0       120.0             360.0   \n",
       "4             6000                0.0       141.0             360.0   \n",
       "\n",
       "   Credit_History Property_Area Loan_Status  \n",
       "0             1.0         Urban           Y  \n",
       "1             1.0         Rural           N  \n",
       "2             1.0         Urban           Y  \n",
       "3             1.0         Urban           Y  \n",
       "4             1.0         Urban           Y  "
      ]
     },
     "execution_count": 2,
     "metadata": {},
     "output_type": "execute_result"
    }
   ],
   "source": [
    "train.head()"
   ]
  },
  {
   "cell_type": "code",
   "execution_count": 3,
   "metadata": {},
   "outputs": [
    {
     "data": {
      "text/html": [
       "<div>\n",
       "<style>\n",
       "    .dataframe thead tr:only-child th {\n",
       "        text-align: right;\n",
       "    }\n",
       "\n",
       "    .dataframe thead th {\n",
       "        text-align: left;\n",
       "    }\n",
       "\n",
       "    .dataframe tbody tr th {\n",
       "        vertical-align: top;\n",
       "    }\n",
       "</style>\n",
       "<table border=\"1\" class=\"dataframe\">\n",
       "  <thead>\n",
       "    <tr style=\"text-align: right;\">\n",
       "      <th></th>\n",
       "      <th>Loan_ID</th>\n",
       "      <th>Gender</th>\n",
       "      <th>Married</th>\n",
       "      <th>Dependents</th>\n",
       "      <th>Education</th>\n",
       "      <th>Self_Employed</th>\n",
       "      <th>ApplicantIncome</th>\n",
       "      <th>CoapplicantIncome</th>\n",
       "      <th>LoanAmount</th>\n",
       "      <th>Loan_Amount_Term</th>\n",
       "      <th>Credit_History</th>\n",
       "      <th>Property_Area</th>\n",
       "    </tr>\n",
       "  </thead>\n",
       "  <tbody>\n",
       "    <tr>\n",
       "      <th>0</th>\n",
       "      <td>LP001015</td>\n",
       "      <td>Male</td>\n",
       "      <td>Yes</td>\n",
       "      <td>0</td>\n",
       "      <td>Graduate</td>\n",
       "      <td>No</td>\n",
       "      <td>5720</td>\n",
       "      <td>0</td>\n",
       "      <td>110.0</td>\n",
       "      <td>360.0</td>\n",
       "      <td>1.0</td>\n",
       "      <td>Urban</td>\n",
       "    </tr>\n",
       "    <tr>\n",
       "      <th>1</th>\n",
       "      <td>LP001022</td>\n",
       "      <td>Male</td>\n",
       "      <td>Yes</td>\n",
       "      <td>1</td>\n",
       "      <td>Graduate</td>\n",
       "      <td>No</td>\n",
       "      <td>3076</td>\n",
       "      <td>1500</td>\n",
       "      <td>126.0</td>\n",
       "      <td>360.0</td>\n",
       "      <td>1.0</td>\n",
       "      <td>Urban</td>\n",
       "    </tr>\n",
       "    <tr>\n",
       "      <th>2</th>\n",
       "      <td>LP001031</td>\n",
       "      <td>Male</td>\n",
       "      <td>Yes</td>\n",
       "      <td>2</td>\n",
       "      <td>Graduate</td>\n",
       "      <td>No</td>\n",
       "      <td>5000</td>\n",
       "      <td>1800</td>\n",
       "      <td>208.0</td>\n",
       "      <td>360.0</td>\n",
       "      <td>1.0</td>\n",
       "      <td>Urban</td>\n",
       "    </tr>\n",
       "    <tr>\n",
       "      <th>3</th>\n",
       "      <td>LP001035</td>\n",
       "      <td>Male</td>\n",
       "      <td>Yes</td>\n",
       "      <td>2</td>\n",
       "      <td>Graduate</td>\n",
       "      <td>No</td>\n",
       "      <td>2340</td>\n",
       "      <td>2546</td>\n",
       "      <td>100.0</td>\n",
       "      <td>360.0</td>\n",
       "      <td>NaN</td>\n",
       "      <td>Urban</td>\n",
       "    </tr>\n",
       "    <tr>\n",
       "      <th>4</th>\n",
       "      <td>LP001051</td>\n",
       "      <td>Male</td>\n",
       "      <td>No</td>\n",
       "      <td>0</td>\n",
       "      <td>Not Graduate</td>\n",
       "      <td>No</td>\n",
       "      <td>3276</td>\n",
       "      <td>0</td>\n",
       "      <td>78.0</td>\n",
       "      <td>360.0</td>\n",
       "      <td>1.0</td>\n",
       "      <td>Urban</td>\n",
       "    </tr>\n",
       "  </tbody>\n",
       "</table>\n",
       "</div>"
      ],
      "text/plain": [
       "    Loan_ID Gender Married Dependents     Education Self_Employed  \\\n",
       "0  LP001015   Male     Yes          0      Graduate            No   \n",
       "1  LP001022   Male     Yes          1      Graduate            No   \n",
       "2  LP001031   Male     Yes          2      Graduate            No   \n",
       "3  LP001035   Male     Yes          2      Graduate            No   \n",
       "4  LP001051   Male      No          0  Not Graduate            No   \n",
       "\n",
       "   ApplicantIncome  CoapplicantIncome  LoanAmount  Loan_Amount_Term  \\\n",
       "0             5720                  0       110.0             360.0   \n",
       "1             3076               1500       126.0             360.0   \n",
       "2             5000               1800       208.0             360.0   \n",
       "3             2340               2546       100.0             360.0   \n",
       "4             3276                  0        78.0             360.0   \n",
       "\n",
       "   Credit_History Property_Area  \n",
       "0             1.0         Urban  \n",
       "1             1.0         Urban  \n",
       "2             1.0         Urban  \n",
       "3             NaN         Urban  \n",
       "4             1.0         Urban  "
      ]
     },
     "execution_count": 3,
     "metadata": {},
     "output_type": "execute_result"
    }
   ],
   "source": [
    "test.head()"
   ]
  },
  {
   "cell_type": "markdown",
   "metadata": {
    "collapsed": true
   },
   "source": [
    "Notes:  \n",
    "* Gender, Married, Education, Self_Employed, Loan_Status columns\n",
    "  look like character values, while Credit_History seems to be displayed \n",
    "  in 1,0 dummy format  \n",
    "* Loan_Amount_Term recorded as # of days  \n",
    "* looks like we'll be dealing with some NaN values  "
   ]
  },
  {
   "cell_type": "code",
   "execution_count": 4,
   "metadata": {},
   "outputs": [
    {
     "name": "stdout",
     "output_type": "stream",
     "text": [
      "(614, 14) (367, 13) (981, 14)\n"
     ]
    }
   ],
   "source": [
    "# For the sake of data exploration, analysis, and tidying, we'll merge the train and test sets for now\n",
    "train['source'] = 'train'\n",
    "test['source'] = 'test'\n",
    "df = pd.concat([train, test], ignore_index=True)\n",
    "print(train.shape, test.shape, df.shape)"
   ]
  },
  {
   "cell_type": "code",
   "execution_count": 5,
   "metadata": {},
   "outputs": [
    {
     "data": {
      "text/html": [
       "<div>\n",
       "<style>\n",
       "    .dataframe thead tr:only-child th {\n",
       "        text-align: right;\n",
       "    }\n",
       "\n",
       "    .dataframe thead th {\n",
       "        text-align: left;\n",
       "    }\n",
       "\n",
       "    .dataframe tbody tr th {\n",
       "        vertical-align: top;\n",
       "    }\n",
       "</style>\n",
       "<table border=\"1\" class=\"dataframe\">\n",
       "  <thead>\n",
       "    <tr style=\"text-align: right;\">\n",
       "      <th></th>\n",
       "      <th>ApplicantIncome</th>\n",
       "      <th>CoapplicantIncome</th>\n",
       "      <th>Credit_History</th>\n",
       "      <th>LoanAmount</th>\n",
       "      <th>Loan_Amount_Term</th>\n",
       "    </tr>\n",
       "  </thead>\n",
       "  <tbody>\n",
       "    <tr>\n",
       "      <th>count</th>\n",
       "      <td>981.000000</td>\n",
       "      <td>981.000000</td>\n",
       "      <td>902.000000</td>\n",
       "      <td>954.000000</td>\n",
       "      <td>961.000000</td>\n",
       "    </tr>\n",
       "    <tr>\n",
       "      <th>mean</th>\n",
       "      <td>5179.795107</td>\n",
       "      <td>1601.916330</td>\n",
       "      <td>0.835920</td>\n",
       "      <td>142.511530</td>\n",
       "      <td>342.201873</td>\n",
       "    </tr>\n",
       "    <tr>\n",
       "      <th>std</th>\n",
       "      <td>5695.104533</td>\n",
       "      <td>2718.772806</td>\n",
       "      <td>0.370553</td>\n",
       "      <td>77.421743</td>\n",
       "      <td>65.100602</td>\n",
       "    </tr>\n",
       "    <tr>\n",
       "      <th>min</th>\n",
       "      <td>0.000000</td>\n",
       "      <td>0.000000</td>\n",
       "      <td>0.000000</td>\n",
       "      <td>9.000000</td>\n",
       "      <td>6.000000</td>\n",
       "    </tr>\n",
       "    <tr>\n",
       "      <th>25%</th>\n",
       "      <td>2875.000000</td>\n",
       "      <td>0.000000</td>\n",
       "      <td>1.000000</td>\n",
       "      <td>100.000000</td>\n",
       "      <td>360.000000</td>\n",
       "    </tr>\n",
       "    <tr>\n",
       "      <th>50%</th>\n",
       "      <td>3800.000000</td>\n",
       "      <td>1110.000000</td>\n",
       "      <td>1.000000</td>\n",
       "      <td>126.000000</td>\n",
       "      <td>360.000000</td>\n",
       "    </tr>\n",
       "    <tr>\n",
       "      <th>75%</th>\n",
       "      <td>5516.000000</td>\n",
       "      <td>2365.000000</td>\n",
       "      <td>1.000000</td>\n",
       "      <td>162.000000</td>\n",
       "      <td>360.000000</td>\n",
       "    </tr>\n",
       "    <tr>\n",
       "      <th>max</th>\n",
       "      <td>81000.000000</td>\n",
       "      <td>41667.000000</td>\n",
       "      <td>1.000000</td>\n",
       "      <td>700.000000</td>\n",
       "      <td>480.000000</td>\n",
       "    </tr>\n",
       "  </tbody>\n",
       "</table>\n",
       "</div>"
      ],
      "text/plain": [
       "       ApplicantIncome  CoapplicantIncome  Credit_History  LoanAmount  \\\n",
       "count       981.000000         981.000000      902.000000  954.000000   \n",
       "mean       5179.795107        1601.916330        0.835920  142.511530   \n",
       "std        5695.104533        2718.772806        0.370553   77.421743   \n",
       "min           0.000000           0.000000        0.000000    9.000000   \n",
       "25%        2875.000000           0.000000        1.000000  100.000000   \n",
       "50%        3800.000000        1110.000000        1.000000  126.000000   \n",
       "75%        5516.000000        2365.000000        1.000000  162.000000   \n",
       "max       81000.000000       41667.000000        1.000000  700.000000   \n",
       "\n",
       "       Loan_Amount_Term  \n",
       "count        961.000000  \n",
       "mean         342.201873  \n",
       "std           65.100602  \n",
       "min            6.000000  \n",
       "25%          360.000000  \n",
       "50%          360.000000  \n",
       "75%          360.000000  \n",
       "max          480.000000  "
      ]
     },
     "execution_count": 5,
     "metadata": {},
     "output_type": "execute_result"
    }
   ],
   "source": [
    "# Summary stats for numerics\n",
    "df.describe()"
   ]
  },
  {
   "cell_type": "code",
   "execution_count": 6,
   "metadata": {},
   "outputs": [
    {
     "data": {
      "text/plain": [
       "ApplicantIncome        0\n",
       "CoapplicantIncome      0\n",
       "Credit_History        79\n",
       "Dependents            25\n",
       "Education              0\n",
       "Gender                24\n",
       "LoanAmount            27\n",
       "Loan_Amount_Term      20\n",
       "Loan_ID                0\n",
       "Loan_Status          367\n",
       "Married                3\n",
       "Property_Area          0\n",
       "Self_Employed         55\n",
       "source                 0\n",
       "dtype: int64"
      ]
     },
     "execution_count": 6,
     "metadata": {},
     "output_type": "execute_result"
    }
   ],
   "source": [
    "# Missing values in all columns\n",
    "df.isnull().sum()"
   ]
  },
  {
   "cell_type": "markdown",
   "metadata": {
    "collapsed": true
   },
   "source": [
    "Note the decent number of null values.  \n",
    "In Loan_Status, of course, the null values are from our test set."
   ]
  },
  {
   "cell_type": "code",
   "execution_count": 7,
   "metadata": {},
   "outputs": [
    {
     "name": "stdout",
     "output_type": "stream",
     "text": [
      "ApplicantIncome      5179.795107\n",
      "CoapplicantIncome    1601.916330\n",
      "Credit_History          0.835920\n",
      "LoanAmount            142.511530\n",
      "Loan_Amount_Term      342.201873\n",
      "dtype: float64\n",
      "ApplicantIncome      3800.0\n",
      "CoapplicantIncome    1110.0\n",
      "Credit_History          1.0\n",
      "LoanAmount            126.0\n",
      "Loan_Amount_Term      360.0\n",
      "dtype: float64\n",
      "ApplicantIncome      5695.104533\n",
      "CoapplicantIncome    2718.772806\n",
      "Credit_History          0.370553\n",
      "LoanAmount             77.421743\n",
      "Loan_Amount_Term       65.100602\n",
      "dtype: float64\n"
     ]
    },
    {
     "data": {
      "text/plain": [
       "ApplicantIncome      1379.795107\n",
       "CoapplicantIncome     491.916330\n",
       "Credit_History         -0.164080\n",
       "LoanAmount             16.511530\n",
       "Loan_Amount_Term      -17.798127\n",
       "dtype: float64"
      ]
     },
     "execution_count": 7,
     "metadata": {},
     "output_type": "execute_result"
    }
   ],
   "source": [
    "# Print means, medians, and standard deviation of each column to check for spread and skewness\n",
    "print(df.mean(axis=0))\n",
    "print(df.median(axis=0))\n",
    "print(df.std(axis=0))\n",
    "# Difference between mean and median in each column\n",
    "df.mean(axis=0) - df.median(axis=0)"
   ]
  },
  {
   "cell_type": "code",
   "execution_count": 8,
   "metadata": {},
   "outputs": [
    {
     "data": {
      "text/plain": [
       "ApplicantIncome        int64\n",
       "CoapplicantIncome    float64\n",
       "Credit_History       float64\n",
       "Dependents            object\n",
       "Education             object\n",
       "Gender                object\n",
       "LoanAmount           float64\n",
       "Loan_Amount_Term     float64\n",
       "Loan_ID               object\n",
       "Loan_Status           object\n",
       "Married               object\n",
       "Property_Area         object\n",
       "Self_Employed         object\n",
       "source                object\n",
       "dtype: object"
      ]
     },
     "execution_count": 8,
     "metadata": {},
     "output_type": "execute_result"
    }
   ],
   "source": [
    "# List column types\n",
    "df.dtypes"
   ]
  },
  {
   "cell_type": "code",
   "execution_count": 9,
   "metadata": {},
   "outputs": [
    {
     "name": "stdout",
     "output_type": "stream",
     "text": [
      "Male      775\n",
      "Female    182\n",
      "Name: Gender, dtype: int64 \n",
      "\n",
      "Yes    631\n",
      "No     347\n",
      "Name: Married, dtype: int64 \n",
      "\n",
      "0     545\n",
      "1     160\n",
      "2     160\n",
      "3+     91\n",
      "Name: Dependents, dtype: int64 \n",
      "\n",
      "Graduate        763\n",
      "Not Graduate    218\n",
      "Name: Education, dtype: int64 \n",
      "\n",
      "No     807\n",
      "Yes    119\n",
      "Name: Self_Employed, dtype: int64 \n",
      "\n",
      "360.0    823\n",
      "180.0     66\n",
      "480.0     23\n",
      "300.0     20\n",
      "240.0      8\n",
      "84.0       7\n",
      "120.0      4\n",
      "36.0       3\n",
      "60.0       3\n",
      "12.0       2\n",
      "350.0      1\n",
      "6.0        1\n",
      "Name: Loan_Amount_Term, dtype: int64 \n",
      "\n",
      "1.0    754\n",
      "0.0    148\n",
      "Name: Credit_History, dtype: int64 \n",
      "\n",
      "Semiurban    349\n",
      "Urban        342\n",
      "Rural        290\n",
      "Name: Property_Area, dtype: int64 \n",
      "\n",
      "Y    422\n",
      "N    192\n",
      "Name: Loan_Status, dtype: int64 \n",
      "\n"
     ]
    }
   ],
   "source": [
    "# Print frequencies of values for all categorical variables\n",
    "categ_cols = ['Gender', 'Married', 'Dependents', 'Education', 'Self_Employed', 'Loan_Amount_Term', 'Credit_History', 'Property_Area', 'Loan_Status']\n",
    "for col in categ_cols:\n",
    "    print(df[col].value_counts(), '\\n')"
   ]
  },
  {
   "cell_type": "markdown",
   "metadata": {
    "collapsed": true
   },
   "source": [
    "  -----  \n",
    "### *Looking at numeric variable distributions*  \n",
    "  \n",
    "  "
   ]
  },
  {
   "cell_type": "code",
   "execution_count": 10,
   "metadata": {},
   "outputs": [
    {
     "data": {
      "image/png": "[encoded data removed]",
      "text/plain": [
       "<matplotlib.figure.Figure at 0x1f6f3487860>"
      ]
     },
     "metadata": {},
     "output_type": "display_data"
    }
   ],
   "source": [
    "# Quick look at correlations:\n",
    "corr = df.corr()\n",
    "sns.heatmap(corr, cmap='Blues')\n",
    "plt.show()"
   ]
  },
  {
   "cell_type": "code",
   "execution_count": 11,
   "metadata": {
    "scrolled": false
   },
   "outputs": [
    {
     "data": {
      "image/png": "[encoded data removed]",
      "text/plain": [
       "<matplotlib.figure.Figure at 0x1f6f33a8550>"
      ]
     },
     "metadata": {},
     "output_type": "display_data"
    },
    {
     "data": {
      "image/png": "[encoded data removed]",
      "text/plain": [
       "<matplotlib.figure.Figure at 0x1f6f33a3940>"
      ]
     },
     "metadata": {},
     "output_type": "display_data"
    }
   ],
   "source": [
    "df['ApplicantIncome'].hist(bins=100)\n",
    "plt.show()\n",
    "df.boxplot(column = 'ApplicantIncome')\n",
    "plt.show()"
   ]
  },
  {
   "cell_type": "markdown",
   "metadata": {
    "collapsed": true
   },
   "source": [
    "Note the extreme right skew, with just a few values between about 20,000 and 81,000"
   ]
  },
  {
   "cell_type": "code",
   "execution_count": 12,
   "metadata": {},
   "outputs": [
    {
     "data": {
      "image/png": "[encoded data removed]",
      "text/plain": [
       "<matplotlib.figure.Figure at 0x1f6f36fa390>"
      ]
     },
     "metadata": {},
     "output_type": "display_data"
    },
    {
     "data": {
      "image/png": "[encoded data removed]",
      "text/plain": [
       "<matplotlib.figure.Figure at 0x1f6f3cd8a90>"
      ]
     },
     "metadata": {},
     "output_type": "display_data"
    }
   ],
   "source": [
    "df['LoanAmount'].hist(bins=100)\n",
    "plt.show()\n",
    "df.boxplot(column = 'LoanAmount')\n",
    "plt.show()"
   ]
  },
  {
   "cell_type": "code",
   "execution_count": 13,
   "metadata": {},
   "outputs": [
    {
     "data": {
      "image/png": "[encoded data removed]",
      "text/plain": [
       "<matplotlib.figure.Figure at 0x1f6f3d5a7f0>"
      ]
     },
     "metadata": {},
     "output_type": "display_data"
    }
   ],
   "source": [
    "# We also have a nice right skew here, though not quite as extreme as in the ApplicantIncome distribution\n",
    "plt.subplot(2, 2, 1)\n",
    "df['ApplicantIncome'].hist(bins=100)\n",
    "plt.title('Applicant Income Distribution')\n",
    "plt.subplot(2, 2, 3)\n",
    "df.boxplot(column='ApplicantIncome')\n",
    "plt.subplot(2, 2, 2)\n",
    "df['LoanAmount'].hist(bins=100)\n",
    "plt.title('Loan Amount Distribution')\n",
    "plt.subplot(2, 2, 4)\n",
    "df.boxplot(column='LoanAmount')\n",
    "plt.show()"
   ]
  },
  {
   "cell_type": "markdown",
   "metadata": {},
   "source": [
    " ##### Below, looking at Applicant Income distribution dependent on education,  \n",
    " ##### marital status, number of dependents, property area, and gender \n",
    "   "
   ]
  },
  {
   "cell_type": "code",
   "execution_count": 14,
   "metadata": {
    "scrolled": true
   },
   "outputs": [
    {
     "name": "stderr",
     "output_type": "stream",
     "text": [
      "C:\\ProgramData\\Anaconda3\\lib\\site-packages\\numpy\\core\\fromnumeric.py:57: FutureWarning: reshape is deprecated and will raise in a subsequent release. Please use .values.reshape(...) instead\n",
      "  return getattr(obj, method)(*args, **kwds)\n"
     ]
    },
    {
     "data": {
      "image/png": "[encoded data removed]",
      "text/plain": [
       "<matplotlib.figure.Figure at 0x1f6f3e5d908>"
      ]
     },
     "metadata": {},
     "output_type": "display_data"
    },
    {
     "data": {
      "image/png": "[encoded data removed]",
      "text/plain": [
       "<matplotlib.figure.Figure at 0x1f6f413eac8>"
      ]
     },
     "metadata": {},
     "output_type": "display_data"
    },
    {
     "data": {
      "image/png": "[encoded data removed]",
      "text/plain": [
       "<matplotlib.figure.Figure at 0x1f6f41b3a20>"
      ]
     },
     "metadata": {},
     "output_type": "display_data"
    },
    {
     "data": {
      "image/png": "[encoded data removed]",
      "text/plain": [
       "<matplotlib.figure.Figure at 0x1f6f4164320>"
      ]
     },
     "metadata": {},
     "output_type": "display_data"
    },
    {
     "data": {
      "image/png": "[encoded data removed]",
      "text/plain": [
       "<matplotlib.figure.Figure at 0x1f6f3e48898>"
      ]
     },
     "metadata": {},
     "output_type": "display_data"
    },
    {
     "data": {
      "image/png": "[encoded data removed]",
      "text/plain": [
       "<matplotlib.figure.Figure at 0x1f6f3ce6320>"
      ]
     },
     "metadata": {},
     "output_type": "display_data"
    },
    {
     "data": {
      "image/png": "[encoded data removed]",
      "text/plain": [
       "<matplotlib.figure.Figure at 0x1f6f34ac198>"
      ]
     },
     "metadata": {},
     "output_type": "display_data"
    }
   ],
   "source": [
    "df.boxplot(column='ApplicantIncome', by='Education')\n",
    "plt.suptitle('')\n",
    "plt.title('Applicant Income Distribution by Education')\n",
    "plt.show()\n",
    "\n",
    "df.boxplot(column='ApplicantIncome', by='Married')\n",
    "plt.suptitle('')\n",
    "plt.title('Applicant Income Distribution by Married')\n",
    "plt.show()\n",
    "\n",
    "df.boxplot(column='ApplicantIncome', by='Dependents')\n",
    "plt.suptitle('')\n",
    "plt.title('Applicant Income Distribution by Dependents')\n",
    "plt.show()\n",
    "\n",
    "df.boxplot(column='ApplicantIncome', by='Property_Area')\n",
    "plt.suptitle('')\n",
    "plt.title('Applicant Income Distribution by Property Area')\n",
    "plt.show()\n",
    "\n",
    "df.boxplot(column='ApplicantIncome', by='Self_Employed')\n",
    "plt.suptitle('')\n",
    "plt.title('Applicant Income Distribution by Self_Employed')\n",
    "plt.show()\n",
    "\n",
    "df.boxplot(column='ApplicantIncome', by='Gender')\n",
    "plt.suptitle('')\n",
    "plt.title('Applicant Income Distribution by Gender')\n",
    "plt.show()\n",
    "\n",
    "df.boxplot(column='ApplicantIncome', by='Loan_Amount_Term')\n",
    "plt.suptitle('')\n",
    "plt.title('Applicant Income Distribution by Term')\n",
    "plt.show()"
   ]
  },
  {
   "cell_type": "markdown",
   "metadata": {
    "collapsed": true
   },
   "source": [
    "Comparing **income distribution** grouped by a few of the variables, we may consider that perhaps our extreme right skew merely reflects the income gap in society, in addition to chance with regard to the selected sample. It makes sense that college graduates would be more likely to make more, and education appears to be the greatest factor (of the variables we have to work with) in determining whether or not an applicant will have a high, outlier-grade income.  \n",
    "  \n",
    "**Marital status** is also worth looking at. Married applicants may be more likely to have a relatively stable financial situation (including credit history, etc.), considering that stability is often a prerequisite for those who decide to settle down and get hitched.  \n",
    "  \n",
    "**Self-employed** applicants also boast a generally higher IQR, although there aren't as many very high incomes, and let's remember that there are over 6 times as many non-self-employed applicants in this sample.  "
   ]
  },
  {
   "cell_type": "code",
   "execution_count": 15,
   "metadata": {
    "scrolled": true
   },
   "outputs": [
    {
     "data": {
      "image/png": "[encoded data removed]",
      "text/plain": [
       "<matplotlib.figure.Figure at 0x1f6f3dc3b00>"
      ]
     },
     "metadata": {},
     "output_type": "display_data"
    },
    {
     "data": {
      "image/png": "[encoded data removed]",
      "text/plain": [
       "<matplotlib.figure.Figure at 0x1f6f3dc3780>"
      ]
     },
     "metadata": {},
     "output_type": "display_data"
    },
    {
     "data": {
      "image/png": "[encoded data removed]",
      "text/plain": [
       "<matplotlib.figure.Figure at 0x1f6f3ec0240>"
      ]
     },
     "metadata": {},
     "output_type": "display_data"
    }
   ],
   "source": [
    "# Applicant and Coapplicant Income\n",
    "df['CoapplicantIncome'].hist(bins=100)\n",
    "plt.show()\n",
    "\n",
    "# So yeah let's briefly change 0 values to null in order to get a better view of the distribution\n",
    "df['CoapplicantIncome'] = df['CoapplicantIncome'].replace(0.0, np.nan)\n",
    "df['CoapplicantIncome'].hist(bins=100)\n",
    "plt.show()\n",
    "df.boxplot(column = 'CoapplicantIncome')\n",
    "plt.show()"
   ]
  },
  {
   "cell_type": "code",
   "execution_count": 16,
   "metadata": {},
   "outputs": [
    {
     "name": "stdout",
     "output_type": "stream",
     "text": [
      "CoapplicantIncome  False  True \n",
      "Married                        \n",
      "No                   224    123\n",
      "Yes                  203    428\n"
     ]
    },
    {
     "data": {
      "text/html": [
       "<div>\n",
       "<style>\n",
       "    .dataframe thead tr:only-child th {\n",
       "        text-align: right;\n",
       "    }\n",
       "\n",
       "    .dataframe thead th {\n",
       "        text-align: left;\n",
       "    }\n",
       "\n",
       "    .dataframe tbody tr th {\n",
       "        vertical-align: top;\n",
       "    }\n",
       "</style>\n",
       "<table border=\"1\" class=\"dataframe\">\n",
       "  <thead>\n",
       "    <tr style=\"text-align: right;\">\n",
       "      <th>CoapplicantIncome</th>\n",
       "      <th>False</th>\n",
       "      <th>True</th>\n",
       "    </tr>\n",
       "    <tr>\n",
       "      <th>Married</th>\n",
       "      <th></th>\n",
       "      <th></th>\n",
       "    </tr>\n",
       "  </thead>\n",
       "  <tbody>\n",
       "    <tr>\n",
       "      <th>No</th>\n",
       "      <td>0.228338</td>\n",
       "      <td>0.125382</td>\n",
       "    </tr>\n",
       "    <tr>\n",
       "      <th>Yes</th>\n",
       "      <td>0.206932</td>\n",
       "      <td>0.436290</td>\n",
       "    </tr>\n",
       "  </tbody>\n",
       "</table>\n",
       "</div>"
      ],
      "text/plain": [
       "CoapplicantIncome     False     True \n",
       "Married                              \n",
       "No                 0.228338  0.125382\n",
       "Yes                0.206932  0.436290"
      ]
     },
     "execution_count": 16,
     "metadata": {},
     "output_type": "execute_result"
    }
   ],
   "source": [
    "# Also highly right skewed. Likely for the same general reasons as ApplicantIncome\n",
    "# Change our null values back to 0s \n",
    "df['CoapplicantIncome'] = df['CoapplicantIncome'].replace(np.nan, 0.0)\n",
    "# Let's check to see how the presence/absence of coapplicant income relates to marital status:\n",
    "co_inc_tf = df.CoapplicantIncome > 0\n",
    "print(df.pivot_table(index='Married', columns=co_inc_tf, values='Loan_ID', aggfunc='count'))\n",
    "# Proportions\n",
    "df.pivot_table(index='Married', columns=co_inc_tf, values='Loan_ID', aggfunc='count').apply(lambda x: x / df.Loan_ID.count())"
   ]
  },
  {
   "cell_type": "markdown",
   "metadata": {
    "collapsed": true
   },
   "source": [
    "So *yes*, married applicants are definitely more likely to have a coapplicant's income included"
   ]
  },
  {
   "cell_type": "code",
   "execution_count": 17,
   "metadata": {
    "scrolled": true
   },
   "outputs": [
    {
     "name": "stderr",
     "output_type": "stream",
     "text": [
      "C:\\ProgramData\\Anaconda3\\lib\\site-packages\\numpy\\core\\fromnumeric.py:57: FutureWarning: reshape is deprecated and will raise in a subsequent release. Please use .values.reshape(...) instead\n",
      "  return getattr(obj, method)(*args, **kwds)\n"
     ]
    },
    {
     "data": {
      "image/png": "[encoded data removed]",
      "text/plain": [
       "<matplotlib.figure.Figure at 0x1f6f3f06a58>"
      ]
     },
     "metadata": {},
     "output_type": "display_data"
    },
    {
     "data": {
      "image/png": "[encoded data removed]",
      "text/plain": [
       "<matplotlib.figure.Figure at 0x1f6f3e39080>"
      ]
     },
     "metadata": {},
     "output_type": "display_data"
    },
    {
     "data": {
      "image/png": "[encoded data removed]",
      "text/plain": [
       "<matplotlib.figure.Figure at 0x1f6f3ea0358>"
      ]
     },
     "metadata": {},
     "output_type": "display_data"
    },
    {
     "data": {
      "image/png": "[encoded data removed]",
      "text/plain": [
       "<matplotlib.figure.Figure at 0x1f6f355de10>"
      ]
     },
     "metadata": {},
     "output_type": "display_data"
    },
    {
     "data": {
      "image/png": "[encoded data removed]",
      "text/plain": [
       "<matplotlib.figure.Figure at 0x1f6f3ea64a8>"
      ]
     },
     "metadata": {},
     "output_type": "display_data"
    },
    {
     "data": {
      "image/png": "[encoded data removed]",
      "text/plain": [
       "<matplotlib.figure.Figure at 0x1f6f3ef6da0>"
      ]
     },
     "metadata": {},
     "output_type": "display_data"
    },
    {
     "data": {
      "image/png": "[encoded data removed]",
      "text/plain": [
       "<matplotlib.figure.Figure at 0x1f6f3d2e160>"
      ]
     },
     "metadata": {},
     "output_type": "display_data"
    }
   ],
   "source": [
    "# Finally a quick look at Loan_Amount relationships. I expect to see \n",
    "# results similar to ApplicantIncome, as these variables were highly correlated,\n",
    "# and further correlated to similar other variables\n",
    "\n",
    "df.boxplot(column='LoanAmount', by='Education')\n",
    "plt.suptitle('')\n",
    "plt.title('Loan Amount Distribution by Education')\n",
    "plt.show()\n",
    "\n",
    "df.boxplot(column='LoanAmount', by='Married')\n",
    "plt.suptitle('')\n",
    "plt.title('Loan Amount Distribution by Married')\n",
    "plt.show()\n",
    "\n",
    "df.boxplot(column='LoanAmount', by='Dependents')\n",
    "plt.suptitle('')\n",
    "plt.title('Loan Amount Distribution by Dependents')\n",
    "plt.show()\n",
    "\n",
    "df.boxplot(column='LoanAmount', by='Property_Area')\n",
    "plt.suptitle('')\n",
    "plt.title('Loan Amount Distribution by Property Area')\n",
    "plt.show()\n",
    "\n",
    "df.boxplot(column='LoanAmount', by='Self_Employed')\n",
    "plt.suptitle('')\n",
    "plt.title('Loan Amount Distribution by Self_Employed')\n",
    "plt.show()\n",
    "\n",
    "df.boxplot(column='LoanAmount', by='Gender')\n",
    "plt.suptitle('')\n",
    "plt.title('Loan Amount Distribution by Gender')\n",
    "plt.show()\n",
    "\n",
    "df.boxplot(column='LoanAmount', by='Loan_Amount_Term')\n",
    "plt.suptitle('')\n",
    "plt.title('Loan Amount Distribution by Term')\n",
    "plt.show()"
   ]
  },
  {
   "cell_type": "markdown",
   "metadata": {
    "collapsed": true
   },
   "source": [
    "  -----  \n",
    "### *Categorical variable analysis*  \n",
    "  "
   ]
  },
  {
   "cell_type": "code",
   "execution_count": 18,
   "metadata": {},
   "outputs": [
    {
     "data": {
      "text/html": [
       "<div>\n",
       "<style>\n",
       "    .dataframe thead tr:only-child th {\n",
       "        text-align: right;\n",
       "    }\n",
       "\n",
       "    .dataframe thead th {\n",
       "        text-align: left;\n",
       "    }\n",
       "\n",
       "    .dataframe tbody tr th {\n",
       "        vertical-align: top;\n",
       "    }\n",
       "</style>\n",
       "<table border=\"1\" class=\"dataframe\">\n",
       "  <thead>\n",
       "    <tr style=\"text-align: right;\">\n",
       "      <th></th>\n",
       "      <th>ApplicantIncome</th>\n",
       "      <th>CoapplicantIncome</th>\n",
       "      <th>Credit_History</th>\n",
       "      <th>Dependents</th>\n",
       "      <th>Education</th>\n",
       "      <th>Gender</th>\n",
       "      <th>LoanAmount</th>\n",
       "      <th>Loan_Amount_Term</th>\n",
       "      <th>Loan_ID</th>\n",
       "      <th>Loan_Status</th>\n",
       "      <th>Married</th>\n",
       "      <th>Property_Area</th>\n",
       "      <th>Self_Employed</th>\n",
       "      <th>source</th>\n",
       "    </tr>\n",
       "  </thead>\n",
       "  <tbody>\n",
       "    <tr>\n",
       "      <th>0</th>\n",
       "      <td>5849</td>\n",
       "      <td>0.0</td>\n",
       "      <td>1.0</td>\n",
       "      <td>0</td>\n",
       "      <td>1.0</td>\n",
       "      <td>1.0</td>\n",
       "      <td>NaN</td>\n",
       "      <td>360.0</td>\n",
       "      <td>LP001002</td>\n",
       "      <td>1.0</td>\n",
       "      <td>0.0</td>\n",
       "      <td>3.0</td>\n",
       "      <td>0.0</td>\n",
       "      <td>train</td>\n",
       "    </tr>\n",
       "    <tr>\n",
       "      <th>1</th>\n",
       "      <td>4583</td>\n",
       "      <td>1508.0</td>\n",
       "      <td>1.0</td>\n",
       "      <td>1</td>\n",
       "      <td>1.0</td>\n",
       "      <td>1.0</td>\n",
       "      <td>128.0</td>\n",
       "      <td>360.0</td>\n",
       "      <td>LP001003</td>\n",
       "      <td>0.0</td>\n",
       "      <td>1.0</td>\n",
       "      <td>1.0</td>\n",
       "      <td>0.0</td>\n",
       "      <td>train</td>\n",
       "    </tr>\n",
       "    <tr>\n",
       "      <th>2</th>\n",
       "      <td>3000</td>\n",
       "      <td>0.0</td>\n",
       "      <td>1.0</td>\n",
       "      <td>0</td>\n",
       "      <td>1.0</td>\n",
       "      <td>1.0</td>\n",
       "      <td>66.0</td>\n",
       "      <td>360.0</td>\n",
       "      <td>LP001005</td>\n",
       "      <td>1.0</td>\n",
       "      <td>1.0</td>\n",
       "      <td>3.0</td>\n",
       "      <td>1.0</td>\n",
       "      <td>train</td>\n",
       "    </tr>\n",
       "    <tr>\n",
       "      <th>3</th>\n",
       "      <td>2583</td>\n",
       "      <td>2358.0</td>\n",
       "      <td>1.0</td>\n",
       "      <td>0</td>\n",
       "      <td>0.0</td>\n",
       "      <td>1.0</td>\n",
       "      <td>120.0</td>\n",
       "      <td>360.0</td>\n",
       "      <td>LP001006</td>\n",
       "      <td>1.0</td>\n",
       "      <td>1.0</td>\n",
       "      <td>3.0</td>\n",
       "      <td>0.0</td>\n",
       "      <td>train</td>\n",
       "    </tr>\n",
       "    <tr>\n",
       "      <th>4</th>\n",
       "      <td>6000</td>\n",
       "      <td>0.0</td>\n",
       "      <td>1.0</td>\n",
       "      <td>0</td>\n",
       "      <td>1.0</td>\n",
       "      <td>1.0</td>\n",
       "      <td>141.0</td>\n",
       "      <td>360.0</td>\n",
       "      <td>LP001008</td>\n",
       "      <td>1.0</td>\n",
       "      <td>0.0</td>\n",
       "      <td>3.0</td>\n",
       "      <td>0.0</td>\n",
       "      <td>train</td>\n",
       "    </tr>\n",
       "  </tbody>\n",
       "</table>\n",
       "</div>"
      ],
      "text/plain": [
       "   ApplicantIncome  CoapplicantIncome  Credit_History Dependents  Education  \\\n",
       "0             5849                0.0             1.0          0        1.0   \n",
       "1             4583             1508.0             1.0          1        1.0   \n",
       "2             3000                0.0             1.0          0        1.0   \n",
       "3             2583             2358.0             1.0          0        0.0   \n",
       "4             6000                0.0             1.0          0        1.0   \n",
       "\n",
       "   Gender  LoanAmount  Loan_Amount_Term   Loan_ID  Loan_Status  Married  \\\n",
       "0     1.0         NaN             360.0  LP001002          1.0      0.0   \n",
       "1     1.0       128.0             360.0  LP001003          0.0      1.0   \n",
       "2     1.0        66.0             360.0  LP001005          1.0      1.0   \n",
       "3     1.0       120.0             360.0  LP001006          1.0      1.0   \n",
       "4     1.0       141.0             360.0  LP001008          1.0      0.0   \n",
       "\n",
       "   Property_Area  Self_Employed source  \n",
       "0            3.0            0.0  train  \n",
       "1            1.0            0.0  train  \n",
       "2            3.0            1.0  train  \n",
       "3            3.0            0.0  train  \n",
       "4            3.0            0.0  train  "
      ]
     },
     "execution_count": 18,
     "metadata": {},
     "output_type": "execute_result"
    }
   ],
   "source": [
    "# Let's go ahead and map any binary variables to 1s for 'Yes' values and 0s for 'No' values\n",
    "# Gender:\n",
    "df['Gender'] = df['Gender'].map({'Male':1.0, 'Female':0.0})\n",
    "# Married:\n",
    "df['Married'] = df['Married'].map({'Yes':1.0, 'No':0.0})\n",
    "# Self_Employed:\n",
    "df['Self_Employed'] = df['Self_Employed'].map({'Yes':1.0, 'No':0.0})\n",
    "# Education:\n",
    "df['Education'] = df['Education'].map({'Graduate':1.0, 'Not Graduate':0.0})\n",
    "# Property_Area:\n",
    "df['Property_Area'] = df['Property_Area'].map({'Urban':3.0, 'Semiurban':2.0, 'Rural':1.0})\n",
    "# Loan_Status\n",
    "df['Loan_Status'] = df['Loan_Status'].map({'Y':1.0, 'N':0.0})\n",
    "\n",
    "df.head()"
   ]
  },
  {
   "cell_type": "code",
   "execution_count": 19,
   "metadata": {},
   "outputs": [
    {
     "data": {
      "text/html": [
       "<div>\n",
       "<style>\n",
       "    .dataframe thead tr:only-child th {\n",
       "        text-align: right;\n",
       "    }\n",
       "\n",
       "    .dataframe thead th {\n",
       "        text-align: left;\n",
       "    }\n",
       "\n",
       "    .dataframe tbody tr th {\n",
       "        vertical-align: top;\n",
       "    }\n",
       "</style>\n",
       "<table border=\"1\" class=\"dataframe\">\n",
       "  <thead>\n",
       "    <tr style=\"text-align: right;\">\n",
       "      <th></th>\n",
       "      <th>Loan_Status</th>\n",
       "    </tr>\n",
       "    <tr>\n",
       "      <th>Credit_History</th>\n",
       "      <th></th>\n",
       "    </tr>\n",
       "  </thead>\n",
       "  <tbody>\n",
       "    <tr>\n",
       "      <th>0.0</th>\n",
       "      <td>0.078652</td>\n",
       "    </tr>\n",
       "    <tr>\n",
       "      <th>1.0</th>\n",
       "      <td>0.795789</td>\n",
       "    </tr>\n",
       "  </tbody>\n",
       "</table>\n",
       "</div>"
      ],
      "text/plain": [
       "                Loan_Status\n",
       "Credit_History             \n",
       "0.0                0.078652\n",
       "1.0                0.795789"
      ]
     },
     "execution_count": 19,
     "metadata": {},
     "output_type": "execute_result"
    }
   ],
   "source": [
    "# Probability of getting a loan based on presence or absence of a credit history:\n",
    "df.pivot_table(values='Loan_Status', index=['Credit_History'], aggfunc='mean')"
   ]
  },
  {
   "cell_type": "markdown",
   "metadata": {
    "collapsed": true
   },
   "source": [
    "So applicants **with credit history (1.0)** have a **~79.6%** chance of getting their loan approved,  \n",
    "while those **without (0.0)** have a **~7.9%** chance.  \n",
    "The remaining 12% or so represent missing values in the data"
   ]
  },
  {
   "cell_type": "code",
   "execution_count": 20,
   "metadata": {
    "scrolled": true
   },
   "outputs": [
    {
     "name": "stdout",
     "output_type": "stream",
     "text": [
      "        Loan_Status\n",
      "Gender             \n",
      "0.0        0.669643\n",
      "1.0        0.693252 \n",
      "\n",
      "         Loan_Status\n",
      "Married             \n",
      "0.0         0.629108\n",
      "1.0         0.716080 \n",
      "\n",
      "            Loan_Status\n",
      "Dependents             \n",
      "0              0.689855\n",
      "1              0.647059\n",
      "2              0.752475\n",
      "3+             0.647059 \n",
      "\n",
      "           Loan_Status\n",
      "Education             \n",
      "0.0           0.611940\n",
      "1.0           0.708333 \n",
      "\n",
      "               Loan_Status\n",
      "Self_Employed             \n",
      "0.0               0.686000\n",
      "1.0               0.682927 \n",
      "\n",
      "                  Loan_Status\n",
      "Loan_Amount_Term             \n",
      "6.0                       NaN\n",
      "12.0                 1.000000\n",
      "36.0                 0.000000\n",
      "60.0                 1.000000\n",
      "84.0                 0.750000\n",
      "120.0                1.000000\n",
      "180.0                0.659091\n",
      "240.0                0.750000\n",
      "300.0                0.615385\n",
      "350.0                     NaN\n",
      "360.0                0.701172\n",
      "480.0                0.400000 \n",
      "\n",
      "                Loan_Status\n",
      "Credit_History             \n",
      "0.0                0.078652\n",
      "1.0                0.795789 \n",
      "\n",
      "               Loan_Status\n",
      "Property_Area             \n",
      "1.0               0.614525\n",
      "2.0               0.768240\n",
      "3.0               0.658416 \n",
      "\n"
     ]
    }
   ],
   "source": [
    "# Similarly...\n",
    "# Probability of getting a loan based on all categorical attributes:\n",
    "try:\n",
    "    for col in categ_cols:\n",
    "        print(df.pivot_table(values='Loan_Status', index=[col], aggfunc='mean'), '\\n')\n",
    "except ValueError:\n",
    "    pass"
   ]
  },
  {
   "cell_type": "code",
   "execution_count": 21,
   "metadata": {
    "scrolled": true
   },
   "outputs": [
    {
     "data": {
      "text/html": [
       "<div>\n",
       "<style>\n",
       "    .dataframe thead tr:only-child th {\n",
       "        text-align: right;\n",
       "    }\n",
       "\n",
       "    .dataframe thead th {\n",
       "        text-align: left;\n",
       "    }\n",
       "\n",
       "    .dataframe tbody tr th {\n",
       "        vertical-align: top;\n",
       "    }\n",
       "</style>\n",
       "<table border=\"1\" class=\"dataframe\">\n",
       "  <thead>\n",
       "    <tr style=\"text-align: right;\">\n",
       "      <th></th>\n",
       "      <th></th>\n",
       "      <th></th>\n",
       "      <th></th>\n",
       "      <th></th>\n",
       "      <th></th>\n",
       "      <th></th>\n",
       "      <th>Loan_Status</th>\n",
       "    </tr>\n",
       "    <tr>\n",
       "      <th>Gender</th>\n",
       "      <th>Married</th>\n",
       "      <th>Dependents</th>\n",
       "      <th>Education</th>\n",
       "      <th>Self_Employed</th>\n",
       "      <th>Credit_History</th>\n",
       "      <th>Property_Area</th>\n",
       "      <th></th>\n",
       "    </tr>\n",
       "  </thead>\n",
       "  <tbody>\n",
       "    <tr>\n",
       "      <th rowspan=\"30\" valign=\"top\">0.0</th>\n",
       "      <th rowspan=\"29\" valign=\"top\">0.0</th>\n",
       "      <th rowspan=\"15\" valign=\"top\">0</th>\n",
       "      <th rowspan=\"6\" valign=\"top\">0.0</th>\n",
       "      <th rowspan=\"4\" valign=\"top\">0.0</th>\n",
       "      <th>0.0</th>\n",
       "      <th>3.0</th>\n",
       "      <td>0.000000</td>\n",
       "    </tr>\n",
       "    <tr>\n",
       "      <th rowspan=\"3\" valign=\"top\">1.0</th>\n",
       "      <th>1.0</th>\n",
       "      <td>0.666667</td>\n",
       "    </tr>\n",
       "    <tr>\n",
       "      <th>2.0</th>\n",
       "      <td>1.000000</td>\n",
       "    </tr>\n",
       "    <tr>\n",
       "      <th>3.0</th>\n",
       "      <td>1.000000</td>\n",
       "    </tr>\n",
       "    <tr>\n",
       "      <th rowspan=\"2\" valign=\"top\">1.0</th>\n",
       "      <th rowspan=\"2\" valign=\"top\">1.0</th>\n",
       "      <th>2.0</th>\n",
       "      <td>1.000000</td>\n",
       "    </tr>\n",
       "    <tr>\n",
       "      <th>3.0</th>\n",
       "      <td>1.000000</td>\n",
       "    </tr>\n",
       "    <tr>\n",
       "      <th rowspan=\"9\" valign=\"top\">1.0</th>\n",
       "      <th rowspan=\"6\" valign=\"top\">0.0</th>\n",
       "      <th rowspan=\"3\" valign=\"top\">0.0</th>\n",
       "      <th>1.0</th>\n",
       "      <td>NaN</td>\n",
       "    </tr>\n",
       "    <tr>\n",
       "      <th>2.0</th>\n",
       "      <td>0.166667</td>\n",
       "    </tr>\n",
       "    <tr>\n",
       "      <th>3.0</th>\n",
       "      <td>0.000000</td>\n",
       "    </tr>\n",
       "    <tr>\n",
       "      <th rowspan=\"3\" valign=\"top\">1.0</th>\n",
       "      <th>1.0</th>\n",
       "      <td>0.666667</td>\n",
       "    </tr>\n",
       "    <tr>\n",
       "      <th>2.0</th>\n",
       "      <td>0.833333</td>\n",
       "    </tr>\n",
       "    <tr>\n",
       "      <th>3.0</th>\n",
       "      <td>0.888889</td>\n",
       "    </tr>\n",
       "    <tr>\n",
       "      <th rowspan=\"3\" valign=\"top\">1.0</th>\n",
       "      <th>0.0</th>\n",
       "      <th>2.0</th>\n",
       "      <td>0.000000</td>\n",
       "    </tr>\n",
       "    <tr>\n",
       "      <th rowspan=\"2\" valign=\"top\">1.0</th>\n",
       "      <th>1.0</th>\n",
       "      <td>0.000000</td>\n",
       "    </tr>\n",
       "    <tr>\n",
       "      <th>2.0</th>\n",
       "      <td>0.500000</td>\n",
       "    </tr>\n",
       "    <tr>\n",
       "      <th rowspan=\"7\" valign=\"top\">1</th>\n",
       "      <th rowspan=\"3\" valign=\"top\">0.0</th>\n",
       "      <th rowspan=\"2\" valign=\"top\">0.0</th>\n",
       "      <th rowspan=\"2\" valign=\"top\">1.0</th>\n",
       "      <th>1.0</th>\n",
       "      <td>0.000000</td>\n",
       "    </tr>\n",
       "    <tr>\n",
       "      <th>2.0</th>\n",
       "      <td>NaN</td>\n",
       "    </tr>\n",
       "    <tr>\n",
       "      <th>1.0</th>\n",
       "      <th>1.0</th>\n",
       "      <th>2.0</th>\n",
       "      <td>0.000000</td>\n",
       "    </tr>\n",
       "    <tr>\n",
       "      <th rowspan=\"4\" valign=\"top\">1.0</th>\n",
       "      <th rowspan=\"3\" valign=\"top\">0.0</th>\n",
       "      <th rowspan=\"3\" valign=\"top\">1.0</th>\n",
       "      <th>1.0</th>\n",
       "      <td>1.000000</td>\n",
       "    </tr>\n",
       "    <tr>\n",
       "      <th>2.0</th>\n",
       "      <td>0.000000</td>\n",
       "    </tr>\n",
       "    <tr>\n",
       "      <th>3.0</th>\n",
       "      <td>0.666667</td>\n",
       "    </tr>\n",
       "    <tr>\n",
       "      <th>1.0</th>\n",
       "      <th>1.0</th>\n",
       "      <th>2.0</th>\n",
       "      <td>1.000000</td>\n",
       "    </tr>\n",
       "    <tr>\n",
       "      <th rowspan=\"3\" valign=\"top\">2</th>\n",
       "      <th rowspan=\"3\" valign=\"top\">1.0</th>\n",
       "      <th rowspan=\"2\" valign=\"top\">0.0</th>\n",
       "      <th rowspan=\"2\" valign=\"top\">1.0</th>\n",
       "      <th>2.0</th>\n",
       "      <td>NaN</td>\n",
       "    </tr>\n",
       "    <tr>\n",
       "      <th>3.0</th>\n",
       "      <td>0.000000</td>\n",
       "    </tr>\n",
       "    <tr>\n",
       "      <th>1.0</th>\n",
       "      <th>0.0</th>\n",
       "      <th>2.0</th>\n",
       "      <td>NaN</td>\n",
       "    </tr>\n",
       "    <tr>\n",
       "      <th rowspan=\"4\" valign=\"top\">3+</th>\n",
       "      <th rowspan=\"2\" valign=\"top\">0.0</th>\n",
       "      <th rowspan=\"2\" valign=\"top\">0.0</th>\n",
       "      <th>0.0</th>\n",
       "      <th>3.0</th>\n",
       "      <td>0.000000</td>\n",
       "    </tr>\n",
       "    <tr>\n",
       "      <th>1.0</th>\n",
       "      <th>3.0</th>\n",
       "      <td>NaN</td>\n",
       "    </tr>\n",
       "    <tr>\n",
       "      <th rowspan=\"2\" valign=\"top\">1.0</th>\n",
       "      <th rowspan=\"2\" valign=\"top\">0.0</th>\n",
       "      <th>0.0</th>\n",
       "      <th>1.0</th>\n",
       "      <td>NaN</td>\n",
       "    </tr>\n",
       "    <tr>\n",
       "      <th>1.0</th>\n",
       "      <th>1.0</th>\n",
       "      <td>1.000000</td>\n",
       "    </tr>\n",
       "    <tr>\n",
       "      <th>1.0</th>\n",
       "      <th>0</th>\n",
       "      <th>0.0</th>\n",
       "      <th>0.0</th>\n",
       "      <th>0.0</th>\n",
       "      <th>2.0</th>\n",
       "      <td>0.000000</td>\n",
       "    </tr>\n",
       "    <tr>\n",
       "      <th>...</th>\n",
       "      <th>...</th>\n",
       "      <th>...</th>\n",
       "      <th>...</th>\n",
       "      <th>...</th>\n",
       "      <th>...</th>\n",
       "      <th>...</th>\n",
       "      <td>...</td>\n",
       "    </tr>\n",
       "    <tr>\n",
       "      <th rowspan=\"30\" valign=\"top\">1.0</th>\n",
       "      <th rowspan=\"30\" valign=\"top\">1.0</th>\n",
       "      <th rowspan=\"13\" valign=\"top\">2</th>\n",
       "      <th rowspan=\"2\" valign=\"top\">0.0</th>\n",
       "      <th rowspan=\"2\" valign=\"top\">1.0</th>\n",
       "      <th rowspan=\"2\" valign=\"top\">1.0</th>\n",
       "      <th>1.0</th>\n",
       "      <td>0.000000</td>\n",
       "    </tr>\n",
       "    <tr>\n",
       "      <th>2.0</th>\n",
       "      <td>1.000000</td>\n",
       "    </tr>\n",
       "    <tr>\n",
       "      <th rowspan=\"11\" valign=\"top\">1.0</th>\n",
       "      <th rowspan=\"6\" valign=\"top\">0.0</th>\n",
       "      <th rowspan=\"3\" valign=\"top\">0.0</th>\n",
       "      <th>1.0</th>\n",
       "      <td>0.000000</td>\n",
       "    </tr>\n",
       "    <tr>\n",
       "      <th>2.0</th>\n",
       "      <td>0.000000</td>\n",
       "    </tr>\n",
       "    <tr>\n",
       "      <th>3.0</th>\n",
       "      <td>0.000000</td>\n",
       "    </tr>\n",
       "    <tr>\n",
       "      <th rowspan=\"3\" valign=\"top\">1.0</th>\n",
       "      <th>1.0</th>\n",
       "      <td>0.833333</td>\n",
       "    </tr>\n",
       "    <tr>\n",
       "      <th>2.0</th>\n",
       "      <td>1.000000</td>\n",
       "    </tr>\n",
       "    <tr>\n",
       "      <th>3.0</th>\n",
       "      <td>0.842105</td>\n",
       "    </tr>\n",
       "    <tr>\n",
       "      <th rowspan=\"5\" valign=\"top\">1.0</th>\n",
       "      <th rowspan=\"2\" valign=\"top\">0.0</th>\n",
       "      <th>1.0</th>\n",
       "      <td>0.000000</td>\n",
       "    </tr>\n",
       "    <tr>\n",
       "      <th>2.0</th>\n",
       "      <td>0.000000</td>\n",
       "    </tr>\n",
       "    <tr>\n",
       "      <th rowspan=\"3\" valign=\"top\">1.0</th>\n",
       "      <th>1.0</th>\n",
       "      <td>1.000000</td>\n",
       "    </tr>\n",
       "    <tr>\n",
       "      <th>2.0</th>\n",
       "      <td>0.500000</td>\n",
       "    </tr>\n",
       "    <tr>\n",
       "      <th>3.0</th>\n",
       "      <td>0.666667</td>\n",
       "    </tr>\n",
       "    <tr>\n",
       "      <th rowspan=\"17\" valign=\"top\">3+</th>\n",
       "      <th rowspan=\"9\" valign=\"top\">0.0</th>\n",
       "      <th rowspan=\"6\" valign=\"top\">0.0</th>\n",
       "      <th rowspan=\"3\" valign=\"top\">0.0</th>\n",
       "      <th>1.0</th>\n",
       "      <td>NaN</td>\n",
       "    </tr>\n",
       "    <tr>\n",
       "      <th>2.0</th>\n",
       "      <td>0.000000</td>\n",
       "    </tr>\n",
       "    <tr>\n",
       "      <th>3.0</th>\n",
       "      <td>0.000000</td>\n",
       "    </tr>\n",
       "    <tr>\n",
       "      <th rowspan=\"3\" valign=\"top\">1.0</th>\n",
       "      <th>1.0</th>\n",
       "      <td>0.333333</td>\n",
       "    </tr>\n",
       "    <tr>\n",
       "      <th>2.0</th>\n",
       "      <td>1.000000</td>\n",
       "    </tr>\n",
       "    <tr>\n",
       "      <th>3.0</th>\n",
       "      <td>0.000000</td>\n",
       "    </tr>\n",
       "    <tr>\n",
       "      <th rowspan=\"3\" valign=\"top\">1.0</th>\n",
       "      <th rowspan=\"3\" valign=\"top\">1.0</th>\n",
       "      <th>1.0</th>\n",
       "      <td>1.000000</td>\n",
       "    </tr>\n",
       "    <tr>\n",
       "      <th>2.0</th>\n",
       "      <td>NaN</td>\n",
       "    </tr>\n",
       "    <tr>\n",
       "      <th>3.0</th>\n",
       "      <td>1.000000</td>\n",
       "    </tr>\n",
       "    <tr>\n",
       "      <th rowspan=\"8\" valign=\"top\">1.0</th>\n",
       "      <th rowspan=\"6\" valign=\"top\">0.0</th>\n",
       "      <th rowspan=\"3\" valign=\"top\">0.0</th>\n",
       "      <th>1.0</th>\n",
       "      <td>0.000000</td>\n",
       "    </tr>\n",
       "    <tr>\n",
       "      <th>2.0</th>\n",
       "      <td>0.200000</td>\n",
       "    </tr>\n",
       "    <tr>\n",
       "      <th>3.0</th>\n",
       "      <td>1.000000</td>\n",
       "    </tr>\n",
       "    <tr>\n",
       "      <th rowspan=\"3\" valign=\"top\">1.0</th>\n",
       "      <th>1.0</th>\n",
       "      <td>1.000000</td>\n",
       "    </tr>\n",
       "    <tr>\n",
       "      <th>2.0</th>\n",
       "      <td>0.600000</td>\n",
       "    </tr>\n",
       "    <tr>\n",
       "      <th>3.0</th>\n",
       "      <td>0.800000</td>\n",
       "    </tr>\n",
       "    <tr>\n",
       "      <th rowspan=\"2\" valign=\"top\">1.0</th>\n",
       "      <th rowspan=\"2\" valign=\"top\">1.0</th>\n",
       "      <th>1.0</th>\n",
       "      <td>1.000000</td>\n",
       "    </tr>\n",
       "    <tr>\n",
       "      <th>2.0</th>\n",
       "      <td>1.000000</td>\n",
       "    </tr>\n",
       "  </tbody>\n",
       "</table>\n",
       "<p>156 rows × 1 columns</p>\n",
       "</div>"
      ],
      "text/plain": [
       "                                                                                Loan_Status\n",
       "Gender Married Dependents Education Self_Employed Credit_History Property_Area             \n",
       "0.0    0.0     0          0.0       0.0           0.0            3.0               0.000000\n",
       "                                                  1.0            1.0               0.666667\n",
       "                                                                 2.0               1.000000\n",
       "                                                                 3.0               1.000000\n",
       "                                    1.0           1.0            2.0               1.000000\n",
       "                                                                 3.0               1.000000\n",
       "                          1.0       0.0           0.0            1.0                    NaN\n",
       "                                                                 2.0               0.166667\n",
       "                                                                 3.0               0.000000\n",
       "                                                  1.0            1.0               0.666667\n",
       "                                                                 2.0               0.833333\n",
       "                                                                 3.0               0.888889\n",
       "                                    1.0           0.0            2.0               0.000000\n",
       "                                                  1.0            1.0               0.000000\n",
       "                                                                 2.0               0.500000\n",
       "               1          0.0       0.0           1.0            1.0               0.000000\n",
       "                                                                 2.0                    NaN\n",
       "                                    1.0           1.0            2.0               0.000000\n",
       "                          1.0       0.0           1.0            1.0               1.000000\n",
       "                                                                 2.0               0.000000\n",
       "                                                                 3.0               0.666667\n",
       "                                    1.0           1.0            2.0               1.000000\n",
       "               2          1.0       0.0           1.0            2.0                    NaN\n",
       "                                                                 3.0               0.000000\n",
       "                                    1.0           0.0            2.0                    NaN\n",
       "               3+         0.0       0.0           0.0            3.0               0.000000\n",
       "                                                  1.0            3.0                    NaN\n",
       "                          1.0       0.0           0.0            1.0                    NaN\n",
       "                                                  1.0            1.0               1.000000\n",
       "       1.0     0          0.0       0.0           0.0            2.0               0.000000\n",
       "...                                                                                     ...\n",
       "1.0    1.0     2          0.0       1.0           1.0            1.0               0.000000\n",
       "                                                                 2.0               1.000000\n",
       "                          1.0       0.0           0.0            1.0               0.000000\n",
       "                                                                 2.0               0.000000\n",
       "                                                                 3.0               0.000000\n",
       "                                                  1.0            1.0               0.833333\n",
       "                                                                 2.0               1.000000\n",
       "                                                                 3.0               0.842105\n",
       "                                    1.0           0.0            1.0               0.000000\n",
       "                                                                 2.0               0.000000\n",
       "                                                  1.0            1.0               1.000000\n",
       "                                                                 2.0               0.500000\n",
       "                                                                 3.0               0.666667\n",
       "               3+         0.0       0.0           0.0            1.0                    NaN\n",
       "                                                                 2.0               0.000000\n",
       "                                                                 3.0               0.000000\n",
       "                                                  1.0            1.0               0.333333\n",
       "                                                                 2.0               1.000000\n",
       "                                                                 3.0               0.000000\n",
       "                                    1.0           1.0            1.0               1.000000\n",
       "                                                                 2.0                    NaN\n",
       "                                                                 3.0               1.000000\n",
       "                          1.0       0.0           0.0            1.0               0.000000\n",
       "                                                                 2.0               0.200000\n",
       "                                                                 3.0               1.000000\n",
       "                                                  1.0            1.0               1.000000\n",
       "                                                                 2.0               0.600000\n",
       "                                                                 3.0               0.800000\n",
       "                                    1.0           1.0            1.0               1.000000\n",
       "                                                                 2.0               1.000000\n",
       "\n",
       "[156 rows x 1 columns]"
      ]
     },
     "execution_count": 21,
     "metadata": {},
     "output_type": "execute_result"
    }
   ],
   "source": [
    "# The Loan_Status outcome based on all combinations of our six categorical input variables\n",
    "df.pivot_table(values='Loan_Status', index=['Gender', 'Married', 'Dependents', 'Education', 'Self_Employed', 'Credit_History', 'Property_Area'], aggfunc='mean')"
   ]
  },
  {
   "cell_type": "code",
   "execution_count": 22,
   "metadata": {},
   "outputs": [
    {
     "data": {
      "image/png": "[encoded data removed]",
      "text/plain": [
       "<matplotlib.figure.Figure at 0x1f6f3e309e8>"
      ]
     },
     "metadata": {},
     "output_type": "display_data"
    },
    {
     "data": {
      "image/png": "[encoded data removed]",
      "text/plain": [
       "<matplotlib.figure.Figure at 0x1f6f36c2358>"
      ]
     },
     "metadata": {},
     "output_type": "display_data"
    },
    {
     "data": {
      "image/png": "[encoded data removed]",
      "text/plain": [
       "<matplotlib.figure.Figure at 0x1f6f413d0b8>"
      ]
     },
     "metadata": {},
     "output_type": "display_data"
    },
    {
     "data": {
      "image/png": "[encoded data removed]",
      "text/plain": [
       "<matplotlib.figure.Figure at 0x1f6f4055358>"
      ]
     },
     "metadata": {},
     "output_type": "display_data"
    },
    {
     "data": {
      "image/png": "[encoded data removed]",
      "text/plain": [
       "<matplotlib.figure.Figure at 0x1f6f4137048>"
      ]
     },
     "metadata": {},
     "output_type": "display_data"
    },
    {
     "data": {
      "image/png": "[encoded data removed]",
      "text/plain": [
       "<matplotlib.figure.Figure at 0x1f6f4018080>"
      ]
     },
     "metadata": {},
     "output_type": "display_data"
    },
    {
     "data": {
      "image/png": "[encoded data removed]",
      "text/plain": [
       "<matplotlib.figure.Figure at 0x1f6f3f014a8>"
      ]
     },
     "metadata": {},
     "output_type": "display_data"
    },
    {
     "data": {
      "image/png": "[encoded data removed]",
      "text/plain": [
       "<matplotlib.figure.Figure at 0x1f6f3b86d68>"
      ]
     },
     "metadata": {},
     "output_type": "display_data"
    }
   ],
   "source": [
    "# And probably of getting a loan approved based on all categories individually,\n",
    "# visualized a little more nicely as stacked barplots\n",
    "try:\n",
    "    for col in categ_cols:\n",
    "        pair = pd.crosstab(df[col], df['Loan_Status'])\n",
    "        pair.plot.bar(stacked=True, color=['red', '#82E0AA'])\n",
    "        plt.show()\n",
    "except (ValueError, KeyError) as e:\n",
    "    pass"
   ]
  },
  {
   "cell_type": "markdown",
   "metadata": {
    "collapsed": true
   },
   "source": [
    "Notes:  \n",
    "* Gender - many more male applicants  \n",
    "* Married - married applicants have a better record. Considering the gender gap,  \n",
    "  let's remember to look at the relationship between Gender and Married.  \n",
    "* Dependents - Keep in mind that 3+ includes more than just applicants with 3 dependents.  \n",
    "* Education - As noted before, perhaps correlated with income, etc.  \n",
    "* Loan_Amount_Term - Overwhelmingly 1-year terms. We'll look at cleaning up the few  \n",
    "  outliers below 3 months.  \n",
    "* Credit_History - Unsurprisingly linked with Loan_Status; may also be linked to Married, etc.\n",
    "* Property_Area - SemiUrban looking good for probability of approval. I'm thinking married applicants    \n",
    "  with decent income moving to the suburbs  "
   ]
  },
  {
   "cell_type": "markdown",
   "metadata": {
    "collapsed": true
   },
   "source": [
    "  -----  \n",
    "### Cleaning up the Data  \n",
    "  "
   ]
  },
  {
   "cell_type": "markdown",
   "metadata": {
    "collapsed": true
   },
   "source": [
    "So now that we have a clearer picture of what our data look like, it's time to start tidying.  \n",
    "This includes, for starters, dealing with missing values and outliers"
   ]
  },
  {
   "cell_type": "code",
   "execution_count": 23,
   "metadata": {},
   "outputs": [
    {
     "data": {
      "text/plain": [
       "ApplicantIncome        0\n",
       "CoapplicantIncome      0\n",
       "Credit_History        79\n",
       "Dependents            25\n",
       "Education              0\n",
       "Gender                24\n",
       "LoanAmount            27\n",
       "Loan_Amount_Term      20\n",
       "Loan_ID                0\n",
       "Loan_Status          367\n",
       "Married                3\n",
       "Property_Area          0\n",
       "Self_Employed         55\n",
       "source                 0\n",
       "dtype: int64"
      ]
     },
     "execution_count": 23,
     "metadata": {},
     "output_type": "execute_result"
    }
   ],
   "source": [
    "# Just as a reminder:\n",
    "df.isnull().sum()"
   ]
  },
  {
   "cell_type": "markdown",
   "metadata": {},
   "source": [
    "For **categorical variables** we'll impute missing values by the mode,  \n",
    "assuming we don't find any specific reasons not too."
   ]
  },
  {
   "cell_type": "code",
   "execution_count": 24,
   "metadata": {},
   "outputs": [
    {
     "name": "stdout",
     "output_type": "stream",
     "text": [
      "Gender \n",
      " 0    1.0\n",
      "dtype: float64\n",
      "Married \n",
      " 0    1.0\n",
      "dtype: float64\n",
      "Dependents \n",
      " 0    0\n",
      "dtype: object\n",
      "Education \n",
      " 0    1.0\n",
      "dtype: float64\n",
      "Self_Employed \n",
      " 0    0.0\n",
      "dtype: float64\n",
      "Loan_Amount_Term \n",
      " 0    360.0\n",
      "dtype: float64\n",
      "Credit_History \n",
      " 0    1.0\n",
      "dtype: float64\n",
      "Property_Area \n",
      " 0    2.0\n",
      "dtype: float64\n",
      "Loan_Status \n",
      " 0    1.0\n",
      "dtype: float64\n"
     ]
    }
   ],
   "source": [
    "# Check our modes just in case:\n",
    "for col in categ_cols:\n",
    "    print(df[col].name, '\\n', df[col].mode())"
   ]
  },
  {
   "cell_type": "markdown",
   "metadata": {},
   "source": [
    "OK so I feel comfortable imputing by the mode for the above  \n",
    "variables EXCEPT for Gender, Married, Credit_History and Loan_Status (our outcome variable).  \n",
    "Luckily in this dataset there are relatively few missing values in each column.  \n",
    "  "
   ]
  },
  {
   "cell_type": "code",
   "execution_count": 25,
   "metadata": {},
   "outputs": [
    {
     "data": {
      "image/png": "[encoded data removed]",
      "text/plain": [
       "<matplotlib.figure.Figure at 0x1f6f37039e8>"
      ]
     },
     "metadata": {},
     "output_type": "display_data"
    },
    {
     "data": {
      "image/png": "[encoded data removed]",
      "text/plain": [
       "<matplotlib.figure.Figure at 0x1f6f36f5ba8>"
      ]
     },
     "metadata": {},
     "output_type": "display_data"
    },
    {
     "data": {
      "image/png": "[encoded data removed]",
      "text/plain": [
       "<matplotlib.figure.Figure at 0x1f6f35def98>"
      ]
     },
     "metadata": {},
     "output_type": "display_data"
    }
   ],
   "source": [
    "# Just to quickly show one more time the distributions of variables \n",
    "# we'll impute by the mode for:\n",
    "df['Dependents'].hist(bins=50)\n",
    "plt.show()\n",
    "df['Self_Employed'].hist(bins=50)\n",
    "plt.show()\n",
    "df['Loan_Amount_Term'].hist(bins=50)\n",
    "plt.show()"
   ]
  },
  {
   "cell_type": "markdown",
   "metadata": {},
   "source": [
    "  \n",
    "Even checking the distribution of dependents grouped by Married, Gender, and Property Area  \n",
    "returns a mode of 0 for every single possible grouping:"
   ]
  },
  {
   "cell_type": "code",
   "execution_count": 26,
   "metadata": {},
   "outputs": [
    {
     "data": {
      "image/png": "[encoded data removed]",
      "text/plain": [
       "<matplotlib.figure.Figure at 0x1f6f3707a58>"
      ]
     },
     "metadata": {},
     "output_type": "display_data"
    }
   ],
   "source": [
    "df['Dependents'].hist(bins=50, by=[df['Married'], df['Gender'], df['Property_Area']])\n",
    "plt.show()"
   ]
  },
  {
   "cell_type": "code",
   "execution_count": 27,
   "metadata": {},
   "outputs": [
    {
     "name": "stdout",
     "output_type": "stream",
     "text": [
      "ApplicantIncome        0\n",
      "CoapplicantIncome      0\n",
      "Credit_History        79\n",
      "Dependents             0\n",
      "Education              0\n",
      "Gender                24\n",
      "LoanAmount            27\n",
      "Loan_Amount_Term       0\n",
      "Loan_ID                0\n",
      "Loan_Status          367\n",
      "Married                3\n",
      "Property_Area          0\n",
      "Self_Employed          0\n",
      "source                 0\n",
      "dtype: int64\n"
     ]
    }
   ],
   "source": [
    "# So impute by mode for Dependents, Self_Employed, Loan_Amount_Term:\n",
    "mode_cols = ['Dependents', 'Self_Employed', 'Loan_Amount_Term']\n",
    "for col in mode_cols:\n",
    "    df[col].fillna(df[col].mode().iloc[0], inplace=True)\n",
    "print(df.isnull().sum())"
   ]
  },
  {
   "cell_type": "code",
   "execution_count": 28,
   "metadata": {},
   "outputs": [
    {
     "name": "stdout",
     "output_type": "stream",
     "text": [
      "Married  False  True \n",
      "Gender               \n",
      "0.0        125     57\n",
      "1.0        214    561\n"
     ]
    },
    {
     "data": {
      "text/html": [
       "<div>\n",
       "<style>\n",
       "    .dataframe thead tr:only-child th {\n",
       "        text-align: right;\n",
       "    }\n",
       "\n",
       "    .dataframe thead th {\n",
       "        text-align: left;\n",
       "    }\n",
       "\n",
       "    .dataframe tbody tr th {\n",
       "        vertical-align: top;\n",
       "    }\n",
       "</style>\n",
       "<table border=\"1\" class=\"dataframe\">\n",
       "  <thead>\n",
       "    <tr style=\"text-align: right;\">\n",
       "      <th>Married</th>\n",
       "      <th>False</th>\n",
       "      <th>True</th>\n",
       "    </tr>\n",
       "    <tr>\n",
       "      <th>Gender</th>\n",
       "      <th></th>\n",
       "      <th></th>\n",
       "    </tr>\n",
       "  </thead>\n",
       "  <tbody>\n",
       "    <tr>\n",
       "      <th>0.0</th>\n",
       "      <td>0.127421</td>\n",
       "      <td>0.058104</td>\n",
       "    </tr>\n",
       "    <tr>\n",
       "      <th>1.0</th>\n",
       "      <td>0.218145</td>\n",
       "      <td>0.571865</td>\n",
       "    </tr>\n",
       "  </tbody>\n",
       "</table>\n",
       "</div>"
      ],
      "text/plain": [
       "Married     False     True \n",
       "Gender                     \n",
       "0.0      0.127421  0.058104\n",
       "1.0      0.218145  0.571865"
      ]
     },
     "execution_count": 28,
     "metadata": {},
     "output_type": "execute_result"
    }
   ],
   "source": [
    "# For Gender I'm going to look at marital status again\n",
    "married_tf = df.Married == 1\n",
    "print(df.pivot_table(index='Gender', columns=married_tf, values='Loan_ID', aggfunc='count'))\n",
    "# Proportions:\n",
    "df.pivot_table(index='Gender', columns=married_tf, values='Loan_ID', aggfunc='count').apply(lambda x: x / df.Loan_ID.count())"
   ]
  },
  {
   "cell_type": "markdown",
   "metadata": {},
   "source": [
    "So it turns out that male applicants are much more likely to be married  \n",
    "than female applicants. In fact, female applicants are more likely to not  \n",
    "be married.  \n",
    "We can use this information to impute the missing values in Gender  \n",
    "(and likewise to impute the missing values in Married, even though there  \n",
    "are only 3.. but why not be thorough)  "
   ]
  },
  {
   "cell_type": "code",
   "execution_count": 29,
   "metadata": {
    "scrolled": true
   },
   "outputs": [
    {
     "name": "stdout",
     "output_type": "stream",
     "text": [
      "24  .  3\n",
      "0  .  0\n"
     ]
    }
   ],
   "source": [
    "print(df.Gender.isnull().sum(), ' . ', df.Married.isnull().sum())\n",
    "df.loc[((df.Married == 1.0) & (df.Gender.isnull())), 'Gender'] = 1.0\n",
    "df.loc[((df.Married == 0.0) & (df.Gender.isnull())), 'Gender'] = 0.0\n",
    "\n",
    "df.loc[((df.Gender == 1.0) & (df.Married.isnull())), 'Married'] = 1.0\n",
    "df.loc[((df.Gender == 0.0) & (df.Married.isnull())), 'Married'] = 0.0\n",
    "print(df.Gender.isnull().sum(), ' . ', df.Married.isnull().sum())"
   ]
  },
  {
   "cell_type": "markdown",
   "metadata": {},
   "source": [
    "As for **Credit_History**, this is a very important variable in determining Loan_Status,  \n",
    "so even though you may reason that a NaN value might mean no credit history,  \n",
    "we can't take that chance (especially since the mode for Credit_History is  \n",
    "overwhelmingly '1.0').  "
   ]
  },
  {
   "cell_type": "code",
   "execution_count": 30,
   "metadata": {
    "scrolled": true
   },
   "outputs": [
    {
     "data": {
      "image/png": "[encoded data removed]",
      "text/plain": [
       "<matplotlib.figure.Figure at 0x1f6f4a0bef0>"
      ]
     },
     "metadata": {},
     "output_type": "display_data"
    },
    {
     "data": {
      "image/png": "[encoded data removed]",
      "text/plain": [
       "<matplotlib.figure.Figure at 0x1f6f43dd898>"
      ]
     },
     "metadata": {},
     "output_type": "display_data"
    },
    {
     "data": {
      "image/png": "[encoded data removed]",
      "text/plain": [
       "<matplotlib.figure.Figure at 0x1f6f4a395c0>"
      ]
     },
     "metadata": {},
     "output_type": "display_data"
    },
    {
     "data": {
      "image/png": "[encoded data removed]",
      "text/plain": [
       "<matplotlib.figure.Figure at 0x1f6f4a9dd30>"
      ]
     },
     "metadata": {},
     "output_type": "display_data"
    },
    {
     "data": {
      "image/png": "[encoded data removed]",
      "text/plain": [
       "<matplotlib.figure.Figure at 0x1f6f4b0e550>"
      ]
     },
     "metadata": {},
     "output_type": "display_data"
    },
    {
     "data": {
      "image/png": "[encoded data removed]",
      "text/plain": [
       "<matplotlib.figure.Figure at 0x1f6f4b86748>"
      ]
     },
     "metadata": {},
     "output_type": "display_data"
    }
   ],
   "source": [
    "try:\n",
    "    for col in categ_cols:\n",
    "        pair = pd.crosstab(df[col], df['Credit_History'])\n",
    "        pair.plot.bar(stacked=True, color=['red', '#82E0AA'])\n",
    "        plt.show()\n",
    "except (ValueError, KeyError) as e:\n",
    "    pass"
   ]
  },
  {
   "cell_type": "markdown",
   "metadata": {},
   "source": [
    "Unfortunately, Credit_History doesn't show a strong correlation with any variables  \n",
    "apart from Loan_Status.  \n",
    "As such, rather than miscategorize these applicants, we'll put them in a new category of their own:  "
   ]
  },
  {
   "cell_type": "code",
   "execution_count": 31,
   "metadata": {},
   "outputs": [
    {
     "data": {
      "text/plain": [
       "False    981\n",
       "Name: Credit_History, dtype: int64"
      ]
     },
     "execution_count": 31,
     "metadata": {},
     "output_type": "execute_result"
    }
   ],
   "source": [
    "df['Credit_History'] = df['Credit_History'].replace(np.nan, 2.0)\n",
    "pd.value_counts(df.Credit_History.isnull())"
   ]
  },
  {
   "cell_type": "markdown",
   "metadata": {},
   "source": [
    "  -----  \n",
    "Next we'll move on to dealing with the numeric variables, starting with LoanAmount.  \n",
    "  \n",
    "### LoanAmount nulls    "
   ]
  },
  {
   "cell_type": "code",
   "execution_count": 32,
   "metadata": {},
   "outputs": [
    {
     "data": {
      "image/png": "[encoded data removed]",
      "text/plain": [
       "<matplotlib.figure.Figure at 0x1f6f4a553c8>"
      ]
     },
     "metadata": {},
     "output_type": "display_data"
    },
    {
     "data": {
      "image/png": "[encoded data removed]",
      "text/plain": [
       "<matplotlib.figure.Figure at 0x1f6f4c8ff28>"
      ]
     },
     "metadata": {},
     "output_type": "display_data"
    }
   ],
   "source": [
    "df.boxplot(column='LoanAmount')\n",
    "plt.show()\n",
    "df['LoanAmount'].hist(bins=100)\n",
    "plt.show()"
   ]
  },
  {
   "cell_type": "markdown",
   "metadata": {},
   "source": [
    "I think for LoanAmount we'll go ahead and train a model to  \n",
    "predict and replace missing values, based on other variables in the data.  "
   ]
  },
  {
   "cell_type": "code",
   "execution_count": 33,
   "metadata": {},
   "outputs": [
    {
     "data": {
      "text/html": [
       "<div>\n",
       "<style>\n",
       "    .dataframe thead tr:only-child th {\n",
       "        text-align: right;\n",
       "    }\n",
       "\n",
       "    .dataframe thead th {\n",
       "        text-align: left;\n",
       "    }\n",
       "\n",
       "    .dataframe tbody tr th {\n",
       "        vertical-align: top;\n",
       "    }\n",
       "</style>\n",
       "<table border=\"1\" class=\"dataframe\">\n",
       "  <thead>\n",
       "    <tr style=\"text-align: right;\">\n",
       "      <th></th>\n",
       "      <th>ApplicantIncome</th>\n",
       "      <th>CoapplicantIncome</th>\n",
       "      <th>Credit_History</th>\n",
       "      <th>Education</th>\n",
       "      <th>Gender</th>\n",
       "      <th>LoanAmount</th>\n",
       "      <th>Loan_Amount_Term</th>\n",
       "      <th>Loan_Status</th>\n",
       "      <th>Married</th>\n",
       "      <th>Property_Area</th>\n",
       "      <th>Self_Employed</th>\n",
       "    </tr>\n",
       "  </thead>\n",
       "  <tbody>\n",
       "    <tr>\n",
       "      <th>ApplicantIncome</th>\n",
       "      <td>1.000000</td>\n",
       "      <td>-0.104061</td>\n",
       "      <td>0.029435</td>\n",
       "      <td>0.146234</td>\n",
       "      <td>0.022902</td>\n",
       "      <td>0.533675</td>\n",
       "      <td>-0.026431</td>\n",
       "      <td>0.052900</td>\n",
       "      <td>0.037449</td>\n",
       "      <td>0.044801</td>\n",
       "      <td>0.118556</td>\n",
       "    </tr>\n",
       "    <tr>\n",
       "      <th>CoapplicantIncome</th>\n",
       "      <td>-0.104061</td>\n",
       "      <td>1.000000</td>\n",
       "      <td>-0.005832</td>\n",
       "      <td>0.063859</td>\n",
       "      <td>0.144743</td>\n",
       "      <td>0.176290</td>\n",
       "      <td>-0.005991</td>\n",
       "      <td>-0.055747</td>\n",
       "      <td>0.092153</td>\n",
       "      <td>-0.026060</td>\n",
       "      <td>-0.009136</td>\n",
       "    </tr>\n",
       "    <tr>\n",
       "      <th>Credit_History</th>\n",
       "      <td>0.029435</td>\n",
       "      <td>-0.005832</td>\n",
       "      <td>1.000000</td>\n",
       "      <td>0.029365</td>\n",
       "      <td>-0.014129</td>\n",
       "      <td>0.018716</td>\n",
       "      <td>-0.013887</td>\n",
       "      <td>0.425052</td>\n",
       "      <td>0.013922</td>\n",
       "      <td>0.017380</td>\n",
       "      <td>0.050339</td>\n",
       "    </tr>\n",
       "    <tr>\n",
       "      <th>Education</th>\n",
       "      <td>0.146234</td>\n",
       "      <td>0.063859</td>\n",
       "      <td>0.029365</td>\n",
       "      <td>1.000000</td>\n",
       "      <td>-0.048417</td>\n",
       "      <td>0.165456</td>\n",
       "      <td>0.012789</td>\n",
       "      <td>0.066554</td>\n",
       "      <td>-0.022019</td>\n",
       "      <td>0.066610</td>\n",
       "      <td>0.016710</td>\n",
       "    </tr>\n",
       "    <tr>\n",
       "      <th>Gender</th>\n",
       "      <td>0.022902</td>\n",
       "      <td>0.144743</td>\n",
       "      <td>-0.014129</td>\n",
       "      <td>-0.048417</td>\n",
       "      <td>1.000000</td>\n",
       "      <td>0.083968</td>\n",
       "      <td>-0.072189</td>\n",
       "      <td>0.007778</td>\n",
       "      <td>0.393425</td>\n",
       "      <td>-0.046656</td>\n",
       "      <td>0.024782</td>\n",
       "    </tr>\n",
       "    <tr>\n",
       "      <th>LoanAmount</th>\n",
       "      <td>0.533675</td>\n",
       "      <td>0.176290</td>\n",
       "      <td>0.018716</td>\n",
       "      <td>0.165456</td>\n",
       "      <td>0.083968</td>\n",
       "      <td>1.000000</td>\n",
       "      <td>0.077575</td>\n",
       "      <td>-0.012795</td>\n",
       "      <td>0.177702</td>\n",
       "      <td>-0.032653</td>\n",
       "      <td>0.086840</td>\n",
       "    </tr>\n",
       "    <tr>\n",
       "      <th>Loan_Amount_Term</th>\n",
       "      <td>-0.026431</td>\n",
       "      <td>-0.005991</td>\n",
       "      <td>-0.013887</td>\n",
       "      <td>0.012789</td>\n",
       "      <td>-0.072189</td>\n",
       "      <td>0.077575</td>\n",
       "      <td>1.000000</td>\n",
       "      <td>-0.022916</td>\n",
       "      <td>-0.037613</td>\n",
       "      <td>-0.006971</td>\n",
       "      <td>-0.014613</td>\n",
       "    </tr>\n",
       "    <tr>\n",
       "      <th>Loan_Status</th>\n",
       "      <td>0.052900</td>\n",
       "      <td>-0.055747</td>\n",
       "      <td>0.425052</td>\n",
       "      <td>0.066554</td>\n",
       "      <td>0.007778</td>\n",
       "      <td>-0.012795</td>\n",
       "      <td>-0.022916</td>\n",
       "      <td>1.000000</td>\n",
       "      <td>0.084327</td>\n",
       "      <td>0.054450</td>\n",
       "      <td>0.039607</td>\n",
       "    </tr>\n",
       "    <tr>\n",
       "      <th>Married</th>\n",
       "      <td>0.037449</td>\n",
       "      <td>0.092153</td>\n",
       "      <td>0.013922</td>\n",
       "      <td>-0.022019</td>\n",
       "      <td>0.393425</td>\n",
       "      <td>0.177702</td>\n",
       "      <td>-0.037613</td>\n",
       "      <td>0.084327</td>\n",
       "      <td>1.000000</td>\n",
       "      <td>0.003696</td>\n",
       "      <td>0.019391</td>\n",
       "    </tr>\n",
       "    <tr>\n",
       "      <th>Property_Area</th>\n",
       "      <td>0.044801</td>\n",
       "      <td>-0.026060</td>\n",
       "      <td>0.017380</td>\n",
       "      <td>0.066610</td>\n",
       "      <td>-0.046656</td>\n",
       "      <td>-0.032653</td>\n",
       "      <td>-0.006971</td>\n",
       "      <td>0.054450</td>\n",
       "      <td>0.003696</td>\n",
       "      <td>1.000000</td>\n",
       "      <td>-0.060435</td>\n",
       "    </tr>\n",
       "    <tr>\n",
       "      <th>Self_Employed</th>\n",
       "      <td>0.118556</td>\n",
       "      <td>-0.009136</td>\n",
       "      <td>0.050339</td>\n",
       "      <td>0.016710</td>\n",
       "      <td>0.024782</td>\n",
       "      <td>0.086840</td>\n",
       "      <td>-0.014613</td>\n",
       "      <td>0.039607</td>\n",
       "      <td>0.019391</td>\n",
       "      <td>-0.060435</td>\n",
       "      <td>1.000000</td>\n",
       "    </tr>\n",
       "  </tbody>\n",
       "</table>\n",
       "</div>"
      ],
      "text/plain": [
       "                   ApplicantIncome  CoapplicantIncome  Credit_History  \\\n",
       "ApplicantIncome           1.000000          -0.104061        0.029435   \n",
       "CoapplicantIncome        -0.104061           1.000000       -0.005832   \n",
       "Credit_History            0.029435          -0.005832        1.000000   \n",
       "Education                 0.146234           0.063859        0.029365   \n",
       "Gender                    0.022902           0.144743       -0.014129   \n",
       "LoanAmount                0.533675           0.176290        0.018716   \n",
       "Loan_Amount_Term         -0.026431          -0.005991       -0.013887   \n",
       "Loan_Status               0.052900          -0.055747        0.425052   \n",
       "Married                   0.037449           0.092153        0.013922   \n",
       "Property_Area             0.044801          -0.026060        0.017380   \n",
       "Self_Employed             0.118556          -0.009136        0.050339   \n",
       "\n",
       "                   Education    Gender  LoanAmount  Loan_Amount_Term  \\\n",
       "ApplicantIncome     0.146234  0.022902    0.533675         -0.026431   \n",
       "CoapplicantIncome   0.063859  0.144743    0.176290         -0.005991   \n",
       "Credit_History      0.029365 -0.014129    0.018716         -0.013887   \n",
       "Education           1.000000 -0.048417    0.165456          0.012789   \n",
       "Gender             -0.048417  1.000000    0.083968         -0.072189   \n",
       "LoanAmount          0.165456  0.083968    1.000000          0.077575   \n",
       "Loan_Amount_Term    0.012789 -0.072189    0.077575          1.000000   \n",
       "Loan_Status         0.066554  0.007778   -0.012795         -0.022916   \n",
       "Married            -0.022019  0.393425    0.177702         -0.037613   \n",
       "Property_Area       0.066610 -0.046656   -0.032653         -0.006971   \n",
       "Self_Employed       0.016710  0.024782    0.086840         -0.014613   \n",
       "\n",
       "                   Loan_Status   Married  Property_Area  Self_Employed  \n",
       "ApplicantIncome       0.052900  0.037449       0.044801       0.118556  \n",
       "CoapplicantIncome    -0.055747  0.092153      -0.026060      -0.009136  \n",
       "Credit_History        0.425052  0.013922       0.017380       0.050339  \n",
       "Education             0.066554 -0.022019       0.066610       0.016710  \n",
       "Gender                0.007778  0.393425      -0.046656       0.024782  \n",
       "LoanAmount           -0.012795  0.177702      -0.032653       0.086840  \n",
       "Loan_Amount_Term     -0.022916 -0.037613      -0.006971      -0.014613  \n",
       "Loan_Status           1.000000  0.084327       0.054450       0.039607  \n",
       "Married               0.084327  1.000000       0.003696       0.019391  \n",
       "Property_Area         0.054450  0.003696       1.000000      -0.060435  \n",
       "Self_Employed         0.039607  0.019391      -0.060435       1.000000  "
      ]
     },
     "execution_count": 33,
     "metadata": {},
     "output_type": "execute_result"
    }
   ],
   "source": [
    "# Import KNeighborsRegressor from scikit-learn\n",
    "from sklearn.neighbors import KNeighborsRegressor\n",
    "\n",
    "# Divide into train and test sets\n",
    "is_test = np.random.rand(len(df)) > 0.70\n",
    "train_la = df[is_test==False]\n",
    "test_la = df[is_test==True]\n",
    "\n",
    "# Set up imputer with sklearn's KNeighbors\n",
    "la_imp = KNeighborsRegressor(n_neighbors=1)\n",
    "\n",
    "# Prepare to train based on whether or not LoanAmount is null\n",
    "train_vals = train_la[train_la.LoanAmount.isnull()==False]\n",
    "train_nulls = train_la[train_la.LoanAmount.isnull()==True]\n",
    "\n",
    "# Check for correlated variables to use in our model\n",
    "train_vals.corr()"
   ]
  },
  {
   "cell_type": "code",
   "execution_count": 34,
   "metadata": {},
   "outputs": [
    {
     "data": {
      "text/plain": [
       "ApplicantIncome      0.533675\n",
       "CoapplicantIncome    0.176290\n",
       "Credit_History       0.018716\n",
       "Education            0.165456\n",
       "Gender               0.083968\n",
       "LoanAmount           1.000000\n",
       "Loan_Amount_Term     0.077575\n",
       "Loan_Status         -0.012795\n",
       "Married              0.177702\n",
       "Property_Area       -0.032653\n",
       "Self_Employed        0.086840\n",
       "Name: LoanAmount, dtype: float64"
      ]
     },
     "execution_count": 34,
     "metadata": {},
     "output_type": "execute_result"
    }
   ],
   "source": [
    "# Correlations with LoanAmount\n",
    "train_vals.corr().iloc[:,5]"
   ]
  },
  {
   "cell_type": "markdown",
   "metadata": {
    "collapsed": true
   },
   "source": [
    "**ApplicantIncome** looking promising..  \n",
    "Also, **CoapplicantIncome, Education, Married** and **Self_Employed** may be good to include.  "
   ]
  },
  {
   "cell_type": "code",
   "execution_count": 35,
   "metadata": {},
   "outputs": [
    {
     "data": {
      "text/plain": [
       "KNeighborsRegressor(algorithm='auto', leaf_size=30, metric='minkowski',\n",
       "          metric_params=None, n_jobs=1, n_neighbors=1, p=2,\n",
       "          weights='uniform')"
      ]
     },
     "execution_count": 35,
     "metadata": {},
     "output_type": "execute_result"
    }
   ],
   "source": [
    "# Fit model based on the above variables \n",
    "cols = ['ApplicantIncome', 'Education', 'Married', 'Self_Employed']\n",
    "la_imp.fit(train_vals[cols], train_vals.LoanAmount)"
   ]
  },
  {
   "cell_type": "code",
   "execution_count": 36,
   "metadata": {},
   "outputs": [
    {
     "data": {
      "text/plain": [
       "array([ 116.,   99.,  125.,  187.,  280.,  194.,   70.,  113.,   80.,\n",
       "        100.,   95.,  214.,   59.,   70.,  137.,  104.,  115.,  113.,\n",
       "         90.,  150.,  412.])"
      ]
     },
     "execution_count": 36,
     "metadata": {},
     "output_type": "execute_result"
    }
   ],
   "source": [
    "# Predict LoanAmount where LoanAmount is null with the training set\n",
    "new_vals = la_imp.predict(train_nulls.loc[:, cols])\n",
    "new_vals"
   ]
  },
  {
   "cell_type": "code",
   "execution_count": 37,
   "metadata": {},
   "outputs": [
    {
     "name": "stderr",
     "output_type": "stream",
     "text": [
      "C:\\ProgramData\\Anaconda3\\lib\\site-packages\\ipykernel_launcher.py:2: SettingWithCopyWarning: \n",
      "A value is trying to be set on a copy of a slice from a DataFrame.\n",
      "Try using .loc[row_indexer,col_indexer] = value instead\n",
      "\n",
      "See the caveats in the documentation: http://pandas.pydata.org/pandas-docs/stable/indexing.html#indexing-view-versus-copy\n",
      "  \n"
     ]
    },
    {
     "data": {
      "text/plain": [
       "False    21\n",
       "Name: LoanAmount, dtype: int64"
      ]
     },
     "execution_count": 37,
     "metadata": {},
     "output_type": "execute_result"
    }
   ],
   "source": [
    "# Add predicted values to train_nulls and confirm absence of missing values\n",
    "train_nulls['LoanAmount'] = new_vals\n",
    "pd.value_counts(train_nulls.LoanAmount.isnull())"
   ]
  },
  {
   "cell_type": "code",
   "execution_count": 38,
   "metadata": {},
   "outputs": [
    {
     "name": "stdout",
     "output_type": "stream",
     "text": [
      "703\n"
     ]
    },
    {
     "data": {
      "text/plain": [
       "703"
      ]
     },
     "execution_count": 38,
     "metadata": {},
     "output_type": "execute_result"
    }
   ],
   "source": [
    "# recombine the data\n",
    "print(len(train_la))\n",
    "train_la = train_vals.append(train_nulls)\n",
    "len(train_la)"
   ]
  },
  {
   "cell_type": "code",
   "execution_count": 39,
   "metadata": {},
   "outputs": [
    {
     "name": "stderr",
     "output_type": "stream",
     "text": [
      "C:\\ProgramData\\Anaconda3\\lib\\site-packages\\pandas\\core\\indexing.py:337: SettingWithCopyWarning: \n",
      "A value is trying to be set on a copy of a slice from a DataFrame.\n",
      "Try using .loc[row_indexer,col_indexer] = value instead\n",
      "\n",
      "See the caveats in the documentation: http://pandas.pydata.org/pandas-docs/stable/indexing.html#indexing-view-versus-copy\n",
      "  self.obj[key] = _infer_fill_value(value)\n",
      "C:\\ProgramData\\Anaconda3\\lib\\site-packages\\pandas\\core\\indexing.py:517: SettingWithCopyWarning: \n",
      "A value is trying to be set on a copy of a slice from a DataFrame.\n",
      "Try using .loc[row_indexer,col_indexer] = value instead\n",
      "\n",
      "See the caveats in the documentation: http://pandas.pydata.org/pandas-docs/stable/indexing.html#indexing-view-versus-copy\n",
      "  self.obj[item] = s\n"
     ]
    },
    {
     "data": {
      "text/html": [
       "<div>\n",
       "<style>\n",
       "    .dataframe thead tr:only-child th {\n",
       "        text-align: right;\n",
       "    }\n",
       "\n",
       "    .dataframe thead th {\n",
       "        text-align: left;\n",
       "    }\n",
       "\n",
       "    .dataframe tbody tr th {\n",
       "        vertical-align: top;\n",
       "    }\n",
       "</style>\n",
       "<table border=\"1\" class=\"dataframe\">\n",
       "  <thead>\n",
       "    <tr style=\"text-align: right;\">\n",
       "      <th></th>\n",
       "      <th>ApplicantIncome</th>\n",
       "      <th>CoapplicantIncome</th>\n",
       "      <th>Credit_History</th>\n",
       "      <th>Dependents</th>\n",
       "      <th>Education</th>\n",
       "      <th>Gender</th>\n",
       "      <th>LoanAmount</th>\n",
       "      <th>Loan_Amount_Term</th>\n",
       "      <th>Loan_ID</th>\n",
       "      <th>Loan_Status</th>\n",
       "      <th>Married</th>\n",
       "      <th>Property_Area</th>\n",
       "      <th>Self_Employed</th>\n",
       "      <th>source</th>\n",
       "      <th>LoanAmount_Imputed</th>\n",
       "    </tr>\n",
       "  </thead>\n",
       "  <tbody>\n",
       "    <tr>\n",
       "      <th>2</th>\n",
       "      <td>3000</td>\n",
       "      <td>0.0</td>\n",
       "      <td>1.0</td>\n",
       "      <td>0</td>\n",
       "      <td>1.0</td>\n",
       "      <td>1.0</td>\n",
       "      <td>66.0</td>\n",
       "      <td>360.0</td>\n",
       "      <td>LP001005</td>\n",
       "      <td>1.0</td>\n",
       "      <td>1.0</td>\n",
       "      <td>3.0</td>\n",
       "      <td>1.0</td>\n",
       "      <td>train</td>\n",
       "      <td>56.0</td>\n",
       "    </tr>\n",
       "    <tr>\n",
       "      <th>4</th>\n",
       "      <td>6000</td>\n",
       "      <td>0.0</td>\n",
       "      <td>1.0</td>\n",
       "      <td>0</td>\n",
       "      <td>1.0</td>\n",
       "      <td>1.0</td>\n",
       "      <td>141.0</td>\n",
       "      <td>360.0</td>\n",
       "      <td>LP001008</td>\n",
       "      <td>1.0</td>\n",
       "      <td>0.0</td>\n",
       "      <td>3.0</td>\n",
       "      <td>0.0</td>\n",
       "      <td>train</td>\n",
       "      <td>156.0</td>\n",
       "    </tr>\n",
       "    <tr>\n",
       "      <th>10</th>\n",
       "      <td>3200</td>\n",
       "      <td>700.0</td>\n",
       "      <td>1.0</td>\n",
       "      <td>2</td>\n",
       "      <td>1.0</td>\n",
       "      <td>1.0</td>\n",
       "      <td>70.0</td>\n",
       "      <td>360.0</td>\n",
       "      <td>LP001024</td>\n",
       "      <td>1.0</td>\n",
       "      <td>1.0</td>\n",
       "      <td>3.0</td>\n",
       "      <td>0.0</td>\n",
       "      <td>train</td>\n",
       "      <td>172.0</td>\n",
       "    </tr>\n",
       "    <tr>\n",
       "      <th>11</th>\n",
       "      <td>2500</td>\n",
       "      <td>1840.0</td>\n",
       "      <td>1.0</td>\n",
       "      <td>2</td>\n",
       "      <td>1.0</td>\n",
       "      <td>1.0</td>\n",
       "      <td>109.0</td>\n",
       "      <td>360.0</td>\n",
       "      <td>LP001027</td>\n",
       "      <td>1.0</td>\n",
       "      <td>1.0</td>\n",
       "      <td>3.0</td>\n",
       "      <td>0.0</td>\n",
       "      <td>train</td>\n",
       "      <td>120.0</td>\n",
       "    </tr>\n",
       "    <tr>\n",
       "      <th>24</th>\n",
       "      <td>3717</td>\n",
       "      <td>2925.0</td>\n",
       "      <td>2.0</td>\n",
       "      <td>1</td>\n",
       "      <td>1.0</td>\n",
       "      <td>1.0</td>\n",
       "      <td>151.0</td>\n",
       "      <td>360.0</td>\n",
       "      <td>LP001052</td>\n",
       "      <td>0.0</td>\n",
       "      <td>1.0</td>\n",
       "      <td>2.0</td>\n",
       "      <td>0.0</td>\n",
       "      <td>train</td>\n",
       "      <td>120.0</td>\n",
       "    </tr>\n",
       "  </tbody>\n",
       "</table>\n",
       "</div>"
      ],
      "text/plain": [
       "    ApplicantIncome  CoapplicantIncome  Credit_History Dependents  Education  \\\n",
       "2              3000                0.0             1.0          0        1.0   \n",
       "4              6000                0.0             1.0          0        1.0   \n",
       "10             3200              700.0             1.0          2        1.0   \n",
       "11             2500             1840.0             1.0          2        1.0   \n",
       "24             3717             2925.0             2.0          1        1.0   \n",
       "\n",
       "    Gender  LoanAmount  Loan_Amount_Term   Loan_ID  Loan_Status  Married  \\\n",
       "2      1.0        66.0             360.0  LP001005          1.0      1.0   \n",
       "4      1.0       141.0             360.0  LP001008          1.0      0.0   \n",
       "10     1.0        70.0             360.0  LP001024          1.0      1.0   \n",
       "11     1.0       109.0             360.0  LP001027          1.0      1.0   \n",
       "24     1.0       151.0             360.0  LP001052          0.0      1.0   \n",
       "\n",
       "    Property_Area  Self_Employed source  LoanAmount_Imputed  \n",
       "2             3.0            1.0  train                56.0  \n",
       "4             3.0            0.0  train               156.0  \n",
       "10            3.0            0.0  train               172.0  \n",
       "11            3.0            0.0  train               120.0  \n",
       "24            2.0            0.0  train               120.0  "
      ]
     },
     "execution_count": 39,
     "metadata": {},
     "output_type": "execute_result"
    }
   ],
   "source": [
    "# Apply our model to the test set\n",
    "new_vals2 = la_imp.predict(test_la.loc[:, cols])\n",
    "test_la.loc[:, 'LoanAmount_Imputed'] = new_vals2\n",
    "test_la.head()"
   ]
  },
  {
   "cell_type": "code",
   "execution_count": 40,
   "metadata": {},
   "outputs": [
    {
     "name": "stderr",
     "output_type": "stream",
     "text": [
      "C:\\ProgramData\\Anaconda3\\lib\\site-packages\\pandas\\core\\indexing.py:517: SettingWithCopyWarning: \n",
      "A value is trying to be set on a copy of a slice from a DataFrame.\n",
      "Try using .loc[row_indexer,col_indexer] = value instead\n",
      "\n",
      "See the caveats in the documentation: http://pandas.pydata.org/pandas-docs/stable/indexing.html#indexing-view-versus-copy\n",
      "  self.obj[item] = s\n"
     ]
    }
   ],
   "source": [
    "# Replace null LoanAmount values with values from LoanAmount_Imputed\n",
    "test_la.loc[test_la.LoanAmount.isnull(), 'LoanAmount'] = test_la['LoanAmount_Imputed'] "
   ]
  },
  {
   "cell_type": "code",
   "execution_count": 41,
   "metadata": {},
   "outputs": [
    {
     "name": "stdout",
     "output_type": "stream",
     "text": [
      "False    703\n",
      "Name: LoanAmount, dtype: int64\n",
      "False    278\n",
      "Name: LoanAmount, dtype: int64\n"
     ]
    }
   ],
   "source": [
    "# Confirm absence of nulls in train and test sets\n",
    "print(pd.value_counts(train_la.LoanAmount.isnull()))\n",
    "print(pd.value_counts(test_la.LoanAmount.isnull()))"
   ]
  },
  {
   "cell_type": "code",
   "execution_count": 42,
   "metadata": {},
   "outputs": [
    {
     "name": "stdout",
     "output_type": "stream",
     "text": [
      "False    981\n",
      "Name: LoanAmount, dtype: int64\n"
     ]
    },
    {
     "data": {
      "text/html": [
       "<div>\n",
       "<style>\n",
       "    .dataframe thead tr:only-child th {\n",
       "        text-align: right;\n",
       "    }\n",
       "\n",
       "    .dataframe thead th {\n",
       "        text-align: left;\n",
       "    }\n",
       "\n",
       "    .dataframe tbody tr th {\n",
       "        vertical-align: top;\n",
       "    }\n",
       "</style>\n",
       "<table border=\"1\" class=\"dataframe\">\n",
       "  <thead>\n",
       "    <tr style=\"text-align: right;\">\n",
       "      <th></th>\n",
       "      <th>ApplicantIncome</th>\n",
       "      <th>CoapplicantIncome</th>\n",
       "      <th>Credit_History</th>\n",
       "      <th>Dependents</th>\n",
       "      <th>Education</th>\n",
       "      <th>Gender</th>\n",
       "      <th>LoanAmount</th>\n",
       "      <th>LoanAmount_Imputed</th>\n",
       "      <th>Loan_Amount_Term</th>\n",
       "      <th>Loan_ID</th>\n",
       "      <th>Loan_Status</th>\n",
       "      <th>Married</th>\n",
       "      <th>Property_Area</th>\n",
       "      <th>Self_Employed</th>\n",
       "      <th>source</th>\n",
       "    </tr>\n",
       "  </thead>\n",
       "  <tbody>\n",
       "    <tr>\n",
       "      <th>1</th>\n",
       "      <td>4583</td>\n",
       "      <td>1508.0</td>\n",
       "      <td>1.0</td>\n",
       "      <td>1</td>\n",
       "      <td>1.0</td>\n",
       "      <td>1.0</td>\n",
       "      <td>128.0</td>\n",
       "      <td>NaN</td>\n",
       "      <td>360.0</td>\n",
       "      <td>LP001003</td>\n",
       "      <td>0.0</td>\n",
       "      <td>1.0</td>\n",
       "      <td>1.0</td>\n",
       "      <td>0.0</td>\n",
       "      <td>train</td>\n",
       "    </tr>\n",
       "    <tr>\n",
       "      <th>3</th>\n",
       "      <td>2583</td>\n",
       "      <td>2358.0</td>\n",
       "      <td>1.0</td>\n",
       "      <td>0</td>\n",
       "      <td>0.0</td>\n",
       "      <td>1.0</td>\n",
       "      <td>120.0</td>\n",
       "      <td>NaN</td>\n",
       "      <td>360.0</td>\n",
       "      <td>LP001006</td>\n",
       "      <td>1.0</td>\n",
       "      <td>1.0</td>\n",
       "      <td>3.0</td>\n",
       "      <td>0.0</td>\n",
       "      <td>train</td>\n",
       "    </tr>\n",
       "    <tr>\n",
       "      <th>5</th>\n",
       "      <td>5417</td>\n",
       "      <td>4196.0</td>\n",
       "      <td>1.0</td>\n",
       "      <td>2</td>\n",
       "      <td>1.0</td>\n",
       "      <td>1.0</td>\n",
       "      <td>267.0</td>\n",
       "      <td>NaN</td>\n",
       "      <td>360.0</td>\n",
       "      <td>LP001011</td>\n",
       "      <td>1.0</td>\n",
       "      <td>1.0</td>\n",
       "      <td>3.0</td>\n",
       "      <td>1.0</td>\n",
       "      <td>train</td>\n",
       "    </tr>\n",
       "    <tr>\n",
       "      <th>6</th>\n",
       "      <td>2333</td>\n",
       "      <td>1516.0</td>\n",
       "      <td>1.0</td>\n",
       "      <td>0</td>\n",
       "      <td>0.0</td>\n",
       "      <td>1.0</td>\n",
       "      <td>95.0</td>\n",
       "      <td>NaN</td>\n",
       "      <td>360.0</td>\n",
       "      <td>LP001013</td>\n",
       "      <td>1.0</td>\n",
       "      <td>1.0</td>\n",
       "      <td>3.0</td>\n",
       "      <td>0.0</td>\n",
       "      <td>train</td>\n",
       "    </tr>\n",
       "    <tr>\n",
       "      <th>7</th>\n",
       "      <td>3036</td>\n",
       "      <td>2504.0</td>\n",
       "      <td>0.0</td>\n",
       "      <td>3+</td>\n",
       "      <td>1.0</td>\n",
       "      <td>1.0</td>\n",
       "      <td>158.0</td>\n",
       "      <td>NaN</td>\n",
       "      <td>360.0</td>\n",
       "      <td>LP001014</td>\n",
       "      <td>0.0</td>\n",
       "      <td>1.0</td>\n",
       "      <td>2.0</td>\n",
       "      <td>0.0</td>\n",
       "      <td>train</td>\n",
       "    </tr>\n",
       "  </tbody>\n",
       "</table>\n",
       "</div>"
      ],
      "text/plain": [
       "   ApplicantIncome  CoapplicantIncome  Credit_History Dependents  Education  \\\n",
       "1             4583             1508.0             1.0          1        1.0   \n",
       "3             2583             2358.0             1.0          0        0.0   \n",
       "5             5417             4196.0             1.0          2        1.0   \n",
       "6             2333             1516.0             1.0          0        0.0   \n",
       "7             3036             2504.0             0.0         3+        1.0   \n",
       "\n",
       "   Gender  LoanAmount  LoanAmount_Imputed  Loan_Amount_Term   Loan_ID  \\\n",
       "1     1.0       128.0                 NaN             360.0  LP001003   \n",
       "3     1.0       120.0                 NaN             360.0  LP001006   \n",
       "5     1.0       267.0                 NaN             360.0  LP001011   \n",
       "6     1.0        95.0                 NaN             360.0  LP001013   \n",
       "7     1.0       158.0                 NaN             360.0  LP001014   \n",
       "\n",
       "   Loan_Status  Married  Property_Area  Self_Employed source  \n",
       "1          0.0      1.0            1.0            0.0  train  \n",
       "3          1.0      1.0            3.0            0.0  train  \n",
       "5          1.0      1.0            3.0            1.0  train  \n",
       "6          1.0      1.0            3.0            0.0  train  \n",
       "7          0.0      1.0            2.0            0.0  train  "
      ]
     },
     "execution_count": 42,
     "metadata": {},
     "output_type": "execute_result"
    }
   ],
   "source": [
    "# And recombine train/test back into df\n",
    "df = pd.concat([train_la, test_la])\n",
    "print(pd.value_counts(df.LoanAmount.isnull()))\n",
    "df.head()"
   ]
  },
  {
   "cell_type": "code",
   "execution_count": 43,
   "metadata": {},
   "outputs": [
    {
     "data": {
      "text/html": [
       "<div>\n",
       "<style>\n",
       "    .dataframe thead tr:only-child th {\n",
       "        text-align: right;\n",
       "    }\n",
       "\n",
       "    .dataframe thead th {\n",
       "        text-align: left;\n",
       "    }\n",
       "\n",
       "    .dataframe tbody tr th {\n",
       "        vertical-align: top;\n",
       "    }\n",
       "</style>\n",
       "<table border=\"1\" class=\"dataframe\">\n",
       "  <thead>\n",
       "    <tr style=\"text-align: right;\">\n",
       "      <th></th>\n",
       "      <th>ApplicantIncome</th>\n",
       "      <th>CoapplicantIncome</th>\n",
       "      <th>Credit_History</th>\n",
       "      <th>Dependents</th>\n",
       "      <th>Education</th>\n",
       "      <th>Gender</th>\n",
       "      <th>LoanAmount</th>\n",
       "      <th>Loan_Amount_Term</th>\n",
       "      <th>Loan_ID</th>\n",
       "      <th>Loan_Status</th>\n",
       "      <th>Married</th>\n",
       "      <th>Property_Area</th>\n",
       "      <th>Self_Employed</th>\n",
       "      <th>source</th>\n",
       "    </tr>\n",
       "  </thead>\n",
       "  <tbody>\n",
       "    <tr>\n",
       "      <th>1</th>\n",
       "      <td>4583</td>\n",
       "      <td>1508.0</td>\n",
       "      <td>1.0</td>\n",
       "      <td>1</td>\n",
       "      <td>1.0</td>\n",
       "      <td>1.0</td>\n",
       "      <td>128.0</td>\n",
       "      <td>360.0</td>\n",
       "      <td>LP001003</td>\n",
       "      <td>0.0</td>\n",
       "      <td>1.0</td>\n",
       "      <td>1.0</td>\n",
       "      <td>0.0</td>\n",
       "      <td>train</td>\n",
       "    </tr>\n",
       "    <tr>\n",
       "      <th>3</th>\n",
       "      <td>2583</td>\n",
       "      <td>2358.0</td>\n",
       "      <td>1.0</td>\n",
       "      <td>0</td>\n",
       "      <td>0.0</td>\n",
       "      <td>1.0</td>\n",
       "      <td>120.0</td>\n",
       "      <td>360.0</td>\n",
       "      <td>LP001006</td>\n",
       "      <td>1.0</td>\n",
       "      <td>1.0</td>\n",
       "      <td>3.0</td>\n",
       "      <td>0.0</td>\n",
       "      <td>train</td>\n",
       "    </tr>\n",
       "    <tr>\n",
       "      <th>5</th>\n",
       "      <td>5417</td>\n",
       "      <td>4196.0</td>\n",
       "      <td>1.0</td>\n",
       "      <td>2</td>\n",
       "      <td>1.0</td>\n",
       "      <td>1.0</td>\n",
       "      <td>267.0</td>\n",
       "      <td>360.0</td>\n",
       "      <td>LP001011</td>\n",
       "      <td>1.0</td>\n",
       "      <td>1.0</td>\n",
       "      <td>3.0</td>\n",
       "      <td>1.0</td>\n",
       "      <td>train</td>\n",
       "    </tr>\n",
       "    <tr>\n",
       "      <th>6</th>\n",
       "      <td>2333</td>\n",
       "      <td>1516.0</td>\n",
       "      <td>1.0</td>\n",
       "      <td>0</td>\n",
       "      <td>0.0</td>\n",
       "      <td>1.0</td>\n",
       "      <td>95.0</td>\n",
       "      <td>360.0</td>\n",
       "      <td>LP001013</td>\n",
       "      <td>1.0</td>\n",
       "      <td>1.0</td>\n",
       "      <td>3.0</td>\n",
       "      <td>0.0</td>\n",
       "      <td>train</td>\n",
       "    </tr>\n",
       "    <tr>\n",
       "      <th>7</th>\n",
       "      <td>3036</td>\n",
       "      <td>2504.0</td>\n",
       "      <td>0.0</td>\n",
       "      <td>3+</td>\n",
       "      <td>1.0</td>\n",
       "      <td>1.0</td>\n",
       "      <td>158.0</td>\n",
       "      <td>360.0</td>\n",
       "      <td>LP001014</td>\n",
       "      <td>0.0</td>\n",
       "      <td>1.0</td>\n",
       "      <td>2.0</td>\n",
       "      <td>0.0</td>\n",
       "      <td>train</td>\n",
       "    </tr>\n",
       "  </tbody>\n",
       "</table>\n",
       "</div>"
      ],
      "text/plain": [
       "   ApplicantIncome  CoapplicantIncome  Credit_History Dependents  Education  \\\n",
       "1             4583             1508.0             1.0          1        1.0   \n",
       "3             2583             2358.0             1.0          0        0.0   \n",
       "5             5417             4196.0             1.0          2        1.0   \n",
       "6             2333             1516.0             1.0          0        0.0   \n",
       "7             3036             2504.0             0.0         3+        1.0   \n",
       "\n",
       "   Gender  LoanAmount  Loan_Amount_Term   Loan_ID  Loan_Status  Married  \\\n",
       "1     1.0       128.0             360.0  LP001003          0.0      1.0   \n",
       "3     1.0       120.0             360.0  LP001006          1.0      1.0   \n",
       "5     1.0       267.0             360.0  LP001011          1.0      1.0   \n",
       "6     1.0        95.0             360.0  LP001013          1.0      1.0   \n",
       "7     1.0       158.0             360.0  LP001014          0.0      1.0   \n",
       "\n",
       "   Property_Area  Self_Employed source  \n",
       "1            1.0            0.0  train  \n",
       "3            3.0            0.0  train  \n",
       "5            3.0            1.0  train  \n",
       "6            3.0            0.0  train  \n",
       "7            2.0            0.0  train  "
      ]
     },
     "execution_count": 43,
     "metadata": {},
     "output_type": "execute_result"
    }
   ],
   "source": [
    "# Remove unnecessary LoanAmount_Imputed column\n",
    "df.drop('LoanAmount_Imputed', axis=1, inplace=True)\n",
    "df.head()"
   ]
  },
  {
   "cell_type": "markdown",
   "metadata": {},
   "source": [
    "#### *Okay* so we've gotten rid of our missing values:  "
   ]
  },
  {
   "cell_type": "code",
   "execution_count": 44,
   "metadata": {},
   "outputs": [
    {
     "data": {
      "text/plain": [
       "ApplicantIncome        0\n",
       "CoapplicantIncome      0\n",
       "Credit_History         0\n",
       "Dependents             0\n",
       "Education              0\n",
       "Gender                 0\n",
       "LoanAmount             0\n",
       "Loan_Amount_Term       0\n",
       "Loan_ID                0\n",
       "Loan_Status          367\n",
       "Married                0\n",
       "Property_Area          0\n",
       "Self_Employed          0\n",
       "source                 0\n",
       "dtype: int64"
      ]
     },
     "execution_count": 44,
     "metadata": {},
     "output_type": "execute_result"
    }
   ],
   "source": [
    "df.isnull().sum()"
   ]
  },
  {
   "cell_type": "markdown",
   "metadata": {},
   "source": [
    "  -----  \n",
    "##### Our next step is to deal with odd and/or extreme values for our for numeric variables  "
   ]
  },
  {
   "cell_type": "code",
   "execution_count": 45,
   "metadata": {},
   "outputs": [
    {
     "data": {
      "image/png": "[encoded data removed]",
      "text/plain": [
       "<matplotlib.figure.Figure at 0x1f6f5da85c0>"
      ]
     },
     "metadata": {},
     "output_type": "display_data"
    },
    {
     "data": {
      "image/png": "[encoded data removed]",
      "text/plain": [
       "<matplotlib.figure.Figure at 0x1f6f4b27ac8>"
      ]
     },
     "metadata": {},
     "output_type": "display_data"
    }
   ],
   "source": [
    "# Let's start by looking at the ApplicantIncome and CoapplicantIncome distributions again\n",
    "df['ApplicantIncome'].hist(bins=100)\n",
    "plt.show()\n",
    "df['CoapplicantIncome'].hist(bins=100)\n",
    "plt.show()"
   ]
  },
  {
   "cell_type": "code",
   "execution_count": 46,
   "metadata": {},
   "outputs": [
    {
     "name": "stdout",
     "output_type": "stream",
     "text": [
      "     ApplicantIncome  CoapplicantIncome  Credit_History Dependents  Education  \\\n",
      "639                0            24000.0             0.0          0        1.0   \n",
      "730                0             1760.0             1.0          0        0.0   \n",
      "\n",
      "     Gender  LoanAmount  Loan_Amount_Term   Loan_ID  Loan_Status  Married  \\\n",
      "639     1.0       148.0             360.0  LP001153          NaN      0.0   \n",
      "730     0.0       180.0             360.0  LP001607          NaN      0.0   \n",
      "\n",
      "     Property_Area  Self_Employed source  \n",
      "639            1.0            0.0   test  \n",
      "730            2.0            0.0   test  \n"
     ]
    }
   ],
   "source": [
    "# Find any 0 values in ApplicantIncome (could be errors, or income is with coapplicant)\n",
    "print(df.loc[df.ApplicantIncome == 0])"
   ]
  },
  {
   "cell_type": "markdown",
   "metadata": {},
   "source": [
    "So we have just two culprits, both with coapplicant incomes recorded.  \n",
    "The thing is I was thinking of *combining ApplicantIncome and CoapplicantIncome* for all  \n",
    "rows anyway.  \n",
    "  \n",
    "If CoapplicantIncome is 0 then ApplicantIncome represents total income,  \n",
    "and otherwise Coapplicant gets added to the total. I think it's safe to say that  \n",
    "Coapplicant Income is often an extension of Applicant Income for loan applicants anyway.  "
   ]
  },
  {
   "cell_type": "code",
   "execution_count": 47,
   "metadata": {},
   "outputs": [
    {
     "data": {
      "image/png": "[encoded data removed]",
      "text/plain": [
       "<matplotlib.figure.Figure at 0x1f6f363a2e8>"
      ]
     },
     "metadata": {},
     "output_type": "display_data"
    }
   ],
   "source": [
    "# So we'll create a new variable 'TotalIncome' and also try out its log transformation\n",
    "df['ApplicantIncome'] = df['ApplicantIncome'].astype(float) # just for consistency\n",
    "df['TotalIncome'] = df['ApplicantIncome'] + df['CoapplicantIncome']\n",
    "df['TotalIncome'].hist(bins=100)\n",
    "plt.show()"
   ]
  },
  {
   "cell_type": "markdown",
   "metadata": {},
   "source": [
    "Of course this is still wildly skewed to the right, so let's try to  \n",
    "take the **log** of this **TotalIncome** variable.  \n",
    "  \n",
    "We decided that the outliers are likely still natural values in our data,   \n",
    "so it would be wise to normalize this a bit instead of removing high incomes.  "
   ]
  },
  {
   "cell_type": "code",
   "execution_count": 48,
   "metadata": {},
   "outputs": [
    {
     "data": {
      "image/png": "[encoded data removed]",
      "text/plain": [
       "<matplotlib.figure.Figure at 0x1f6f5da8b38>"
      ]
     },
     "metadata": {},
     "output_type": "display_data"
    }
   ],
   "source": [
    "# Try a logarithmic transformation:\n",
    "df['TotalIncome_log'] = np.log(df['TotalIncome'])\n",
    "df['TotalIncome_log'].hist(bins=100)\n",
    "plt.show()"
   ]
  },
  {
   "cell_type": "markdown",
   "metadata": {
    "collapsed": true
   },
   "source": [
    "*Not perfect, but this looks a lot better!*"
   ]
  },
  {
   "cell_type": "markdown",
   "metadata": {},
   "source": [
    "  -----  \n",
    "##### OK next we'll move on to another numeric variable: LoanAmount  "
   ]
  },
  {
   "cell_type": "code",
   "execution_count": 49,
   "metadata": {},
   "outputs": [
    {
     "name": "stdout",
     "output_type": "stream",
     "text": [
      "Empty DataFrame\n",
      "Columns: [ApplicantIncome, CoapplicantIncome, Credit_History, Dependents, Education, Gender, LoanAmount, Loan_Amount_Term, Loan_ID, Loan_Status, Married, Property_Area, Self_Employed, source, TotalIncome, TotalIncome_log]\n",
      "Index: []\n"
     ]
    }
   ],
   "source": [
    "# Check for 0 values:\n",
    "print(df.loc[df.LoanAmount == 0])"
   ]
  },
  {
   "cell_type": "code",
   "execution_count": 50,
   "metadata": {},
   "outputs": [
    {
     "data": {
      "image/png": "[encoded data removed]",
      "text/plain": [
       "<matplotlib.figure.Figure at 0x1f6f3ba0e80>"
      ]
     },
     "metadata": {},
     "output_type": "display_data"
    }
   ],
   "source": [
    "# Good to know. Look at the distribution one more time:\n",
    "df['LoanAmount'].hist(bins=100)\n",
    "plt.show()"
   ]
  },
  {
   "cell_type": "code",
   "execution_count": 51,
   "metadata": {},
   "outputs": [
    {
     "data": {
      "image/png": "[encoded data removed]",
      "text/plain": [
       "<matplotlib.figure.Figure at 0x1f6f3cd4c18>"
      ]
     },
     "metadata": {},
     "output_type": "display_data"
    }
   ],
   "source": [
    "# As noted early on, we do have a moderate skew.\n",
    "# We can probably transfrom with numpy's log method again.\n",
    "df['LoanAmount_log'] = np.log(df['LoanAmount'])\n",
    "df['LoanAmount_log'].hist(bins=100)\n",
    "plt.show()"
   ]
  },
  {
   "cell_type": "markdown",
   "metadata": {},
   "source": [
    "OK so now we can feel pretty good about the variables we have at the moment.  \n",
    "We can also consider developing new metrics if there's anything that  \n",
    "seems promising.  \n",
    "  \n",
    "For example, maybe the **ratio** of TotalIncome to LoanAmount could give us an   \n",
    "idea of a given applicant's capacity to pay back their loan.  "
   ]
  },
  {
   "cell_type": "code",
   "execution_count": 52,
   "metadata": {},
   "outputs": [
    {
     "data": {
      "image/png": "[encoded data removed]",
      "text/plain": [
       "<matplotlib.figure.Figure at 0x1f6f4b0aba8>"
      ]
     },
     "metadata": {},
     "output_type": "display_data"
    }
   ],
   "source": [
    "df['IncomeLoanAmount_Ratio'] = df['TotalIncome'] / df['LoanAmount']\n",
    "df['IncomeLoanAmount_Ratio'].hist(bins=100)\n",
    "plt.show()"
   ]
  },
  {
   "cell_type": "markdown",
   "metadata": {},
   "source": [
    "Another skewed distribution.  \n",
    "Not surprising at all given that we have some high-income applicants  \n",
    "with comparatively low loan amounts.  "
   ]
  },
  {
   "cell_type": "code",
   "execution_count": 53,
   "metadata": {},
   "outputs": [
    {
     "data": {
      "image/png": "[encoded data removed]",
      "text/plain": [
       "<matplotlib.figure.Figure at 0x1f6f3f8ee80>"
      ]
     },
     "metadata": {},
     "output_type": "display_data"
    }
   ],
   "source": [
    "df['IARatio_log'] = np.log(df['IncomeLoanAmount_Ratio'])\n",
    "df['IARatio_log'].hist(bins=100)\n",
    "plt.show()"
   ]
  },
  {
   "cell_type": "markdown",
   "metadata": {},
   "source": [
    "We could also consider taking the *ratio of term length to amount*,  \n",
    "under the assumption that small loans with longer terms are more likely to be  \n",
    "paid back than larger loans with shorter terms.  "
   ]
  },
  {
   "cell_type": "code",
   "execution_count": 54,
   "metadata": {},
   "outputs": [
    {
     "data": {
      "image/png": "[encoded data removed]",
      "text/plain": [
       "<matplotlib.figure.Figure at 0x1f6f44e2c18>"
      ]
     },
     "metadata": {},
     "output_type": "display_data"
    }
   ],
   "source": [
    "df['AmountTerm_Ratio'] = df['Loan_Amount_Term'] / df['LoanAmount']\n",
    "df['AmountTerm_Ratio'].hist(bins=100)\n",
    "plt.show()"
   ]
  },
  {
   "cell_type": "markdown",
   "metadata": {},
   "source": [
    "This distribution isn't really that skewed. It looks like there's  \n",
    "maybe just one value way out to the right.  "
   ]
  },
  {
   "cell_type": "code",
   "execution_count": 55,
   "metadata": {},
   "outputs": [
    {
     "name": "stdout",
     "output_type": "stream",
     "text": [
      "     ApplicantIncome  CoapplicantIncome  Credit_History Dependents  Education  \\\n",
      "568           2378.0                0.0             1.0          0        1.0   \n",
      "\n",
      "     Gender  LoanAmount  Loan_Amount_Term   Loan_ID  Loan_Status  Married  \\\n",
      "568     0.0         9.0             360.0  LP002840          0.0      0.0   \n",
      "\n",
      "     Property_Area  Self_Employed source  TotalIncome  TotalIncome_log  \\\n",
      "568            3.0            0.0  train       2378.0         7.774015   \n",
      "\n",
      "     LoanAmount_log  IncomeLoanAmount_Ratio  IARatio_log  AmountTerm_Ratio  \n",
      "568        2.197225              264.222222      5.57679              40.0  \n"
     ]
    }
   ],
   "source": [
    "print(df[df['AmountTerm_Ratio'] > 15])"
   ]
  },
  {
   "cell_type": "markdown",
   "metadata": {},
   "source": [
    "Yeah so this instance is actually this dataset's minimum LoanAmount of 9.0.  \n",
    "I think we can safely remove this as an outlier in AmountTermRatio.  "
   ]
  },
  {
   "cell_type": "code",
   "execution_count": 56,
   "metadata": {},
   "outputs": [
    {
     "data": {
      "image/png": "[encoded data removed]",
      "text/plain": [
       "<matplotlib.figure.Figure at 0x1f6f3600a20>"
      ]
     },
     "metadata": {},
     "output_type": "display_data"
    },
    {
     "data": {
      "image/png": "[encoded data removed]",
      "text/plain": [
       "<matplotlib.figure.Figure at 0x1f6f3ba0eb8>"
      ]
     },
     "metadata": {},
     "output_type": "display_data"
    }
   ],
   "source": [
    "df.loc[df['AmountTerm_Ratio'] == 40.0, 'AmountTerm_Ratio'] = df['AmountTerm_Ratio'].median()\n",
    "df['AmountTerm_Ratio'].hist(bins=100)\n",
    "plt.show()\n",
    "df.boxplot(column='AmountTerm_Ratio')\n",
    "plt.show()"
   ]
  },
  {
   "cell_type": "markdown",
   "metadata": {
    "collapsed": true
   },
   "source": [
    "This looks a bit better. We'll leave the other outliers in for now and  \n",
    "see how everything looks once we train our overall model.  "
   ]
  },
  {
   "cell_type": "markdown",
   "metadata": {
    "collapsed": true
   },
   "source": [
    "  -----  \n",
    "##### OK so we've done some analysis and cleaning.\n",
    "##### Now we're ready to move on to modelling"
   ]
  },
  {
   "cell_type": "code",
   "execution_count": 57,
   "metadata": {},
   "outputs": [
    {
     "data": {
      "text/plain": [
       "ApplicantIncome           float64\n",
       "CoapplicantIncome         float64\n",
       "Credit_History            float64\n",
       "Dependents                 object\n",
       "Education                 float64\n",
       "Gender                    float64\n",
       "LoanAmount                float64\n",
       "Loan_Amount_Term          float64\n",
       "Loan_ID                    object\n",
       "Loan_Status               float64\n",
       "Married                   float64\n",
       "Property_Area             float64\n",
       "Self_Employed             float64\n",
       "source                     object\n",
       "TotalIncome               float64\n",
       "TotalIncome_log           float64\n",
       "LoanAmount_log            float64\n",
       "IncomeLoanAmount_Ratio    float64\n",
       "IARatio_log               float64\n",
       "AmountTerm_Ratio          float64\n",
       "dtype: object"
      ]
     },
     "execution_count": 57,
     "metadata": {},
     "output_type": "execute_result"
    }
   ],
   "source": [
    "# Reconfirm which values we still need to make numeric for sklearn\n",
    "df.dtypes"
   ]
  },
  {
   "cell_type": "markdown",
   "metadata": {},
   "source": [
    "**Dependents** needs to be recoded, **Loan_ID** is our ID column,  \n",
    "**source** we'll get rid of shortly when we split back to train and test sets.  "
   ]
  },
  {
   "cell_type": "code",
   "execution_count": 58,
   "metadata": {},
   "outputs": [
    {
     "name": "stdout",
     "output_type": "stream",
     "text": [
      "int64\n"
     ]
    }
   ],
   "source": [
    "# And actually Dependents is easy enough to recode manually, so\n",
    "# the way we've done it there's no need here for LabelEncoding\n",
    "df['Dependents'] = df['Dependents'].map({'0':0, '1':1, '2':2, '3+':3})\n",
    "print(df.Dependents.dtype)"
   ]
  },
  {
   "cell_type": "markdown",
   "metadata": {},
   "source": [
    "Great. So next we'll split the data back into train and test sets on 'source',  \n",
    "and drop Loan_Status from the test set."
   ]
  },
  {
   "cell_type": "code",
   "execution_count": 59,
   "metadata": {},
   "outputs": [
    {
     "name": "stderr",
     "output_type": "stream",
     "text": [
      "C:\\ProgramData\\Anaconda3\\lib\\site-packages\\ipykernel_launcher.py:4: SettingWithCopyWarning: \n",
      "A value is trying to be set on a copy of a slice from a DataFrame\n",
      "\n",
      "See the caveats in the documentation: http://pandas.pydata.org/pandas-docs/stable/indexing.html#indexing-view-versus-copy\n",
      "  after removing the cwd from sys.path.\n",
      "C:\\ProgramData\\Anaconda3\\lib\\site-packages\\ipykernel_launcher.py:5: SettingWithCopyWarning: \n",
      "A value is trying to be set on a copy of a slice from a DataFrame\n",
      "\n",
      "See the caveats in the documentation: http://pandas.pydata.org/pandas-docs/stable/indexing.html#indexing-view-versus-copy\n",
      "  \"\"\"\n"
     ]
    },
    {
     "data": {
      "text/html": [
       "<div>\n",
       "<style>\n",
       "    .dataframe thead tr:only-child th {\n",
       "        text-align: right;\n",
       "    }\n",
       "\n",
       "    .dataframe thead th {\n",
       "        text-align: left;\n",
       "    }\n",
       "\n",
       "    .dataframe tbody tr th {\n",
       "        vertical-align: top;\n",
       "    }\n",
       "</style>\n",
       "<table border=\"1\" class=\"dataframe\">\n",
       "  <thead>\n",
       "    <tr style=\"text-align: right;\">\n",
       "      <th></th>\n",
       "      <th>ApplicantIncome</th>\n",
       "      <th>CoapplicantIncome</th>\n",
       "      <th>Credit_History</th>\n",
       "      <th>Dependents</th>\n",
       "      <th>Education</th>\n",
       "      <th>Gender</th>\n",
       "      <th>LoanAmount</th>\n",
       "      <th>Loan_Amount_Term</th>\n",
       "      <th>Loan_ID</th>\n",
       "      <th>Loan_Status</th>\n",
       "      <th>Married</th>\n",
       "      <th>Property_Area</th>\n",
       "      <th>Self_Employed</th>\n",
       "      <th>TotalIncome</th>\n",
       "      <th>TotalIncome_log</th>\n",
       "      <th>LoanAmount_log</th>\n",
       "      <th>IncomeLoanAmount_Ratio</th>\n",
       "      <th>IARatio_log</th>\n",
       "      <th>AmountTerm_Ratio</th>\n",
       "    </tr>\n",
       "  </thead>\n",
       "  <tbody>\n",
       "    <tr>\n",
       "      <th>1</th>\n",
       "      <td>4583.0</td>\n",
       "      <td>1508.0</td>\n",
       "      <td>1.0</td>\n",
       "      <td>1</td>\n",
       "      <td>1.0</td>\n",
       "      <td>1.0</td>\n",
       "      <td>128.0</td>\n",
       "      <td>360.0</td>\n",
       "      <td>LP001003</td>\n",
       "      <td>0.0</td>\n",
       "      <td>1.0</td>\n",
       "      <td>1.0</td>\n",
       "      <td>0.0</td>\n",
       "      <td>6091.0</td>\n",
       "      <td>8.714568</td>\n",
       "      <td>4.852030</td>\n",
       "      <td>47.585938</td>\n",
       "      <td>3.862537</td>\n",
       "      <td>2.812500</td>\n",
       "    </tr>\n",
       "    <tr>\n",
       "      <th>3</th>\n",
       "      <td>2583.0</td>\n",
       "      <td>2358.0</td>\n",
       "      <td>1.0</td>\n",
       "      <td>0</td>\n",
       "      <td>0.0</td>\n",
       "      <td>1.0</td>\n",
       "      <td>120.0</td>\n",
       "      <td>360.0</td>\n",
       "      <td>LP001006</td>\n",
       "      <td>1.0</td>\n",
       "      <td>1.0</td>\n",
       "      <td>3.0</td>\n",
       "      <td>0.0</td>\n",
       "      <td>4941.0</td>\n",
       "      <td>8.505323</td>\n",
       "      <td>4.787492</td>\n",
       "      <td>41.175000</td>\n",
       "      <td>3.717831</td>\n",
       "      <td>3.000000</td>\n",
       "    </tr>\n",
       "    <tr>\n",
       "      <th>5</th>\n",
       "      <td>5417.0</td>\n",
       "      <td>4196.0</td>\n",
       "      <td>1.0</td>\n",
       "      <td>2</td>\n",
       "      <td>1.0</td>\n",
       "      <td>1.0</td>\n",
       "      <td>267.0</td>\n",
       "      <td>360.0</td>\n",
       "      <td>LP001011</td>\n",
       "      <td>1.0</td>\n",
       "      <td>1.0</td>\n",
       "      <td>3.0</td>\n",
       "      <td>1.0</td>\n",
       "      <td>9613.0</td>\n",
       "      <td>9.170872</td>\n",
       "      <td>5.587249</td>\n",
       "      <td>36.003745</td>\n",
       "      <td>3.583623</td>\n",
       "      <td>1.348315</td>\n",
       "    </tr>\n",
       "    <tr>\n",
       "      <th>6</th>\n",
       "      <td>2333.0</td>\n",
       "      <td>1516.0</td>\n",
       "      <td>1.0</td>\n",
       "      <td>0</td>\n",
       "      <td>0.0</td>\n",
       "      <td>1.0</td>\n",
       "      <td>95.0</td>\n",
       "      <td>360.0</td>\n",
       "      <td>LP001013</td>\n",
       "      <td>1.0</td>\n",
       "      <td>1.0</td>\n",
       "      <td>3.0</td>\n",
       "      <td>0.0</td>\n",
       "      <td>3849.0</td>\n",
       "      <td>8.255569</td>\n",
       "      <td>4.553877</td>\n",
       "      <td>40.515789</td>\n",
       "      <td>3.701692</td>\n",
       "      <td>3.789474</td>\n",
       "    </tr>\n",
       "    <tr>\n",
       "      <th>7</th>\n",
       "      <td>3036.0</td>\n",
       "      <td>2504.0</td>\n",
       "      <td>0.0</td>\n",
       "      <td>3</td>\n",
       "      <td>1.0</td>\n",
       "      <td>1.0</td>\n",
       "      <td>158.0</td>\n",
       "      <td>360.0</td>\n",
       "      <td>LP001014</td>\n",
       "      <td>0.0</td>\n",
       "      <td>1.0</td>\n",
       "      <td>2.0</td>\n",
       "      <td>0.0</td>\n",
       "      <td>5540.0</td>\n",
       "      <td>8.619750</td>\n",
       "      <td>5.062595</td>\n",
       "      <td>35.063291</td>\n",
       "      <td>3.557155</td>\n",
       "      <td>2.278481</td>\n",
       "    </tr>\n",
       "  </tbody>\n",
       "</table>\n",
       "</div>"
      ],
      "text/plain": [
       "   ApplicantIncome  CoapplicantIncome  Credit_History  Dependents  Education  \\\n",
       "1           4583.0             1508.0             1.0           1        1.0   \n",
       "3           2583.0             2358.0             1.0           0        0.0   \n",
       "5           5417.0             4196.0             1.0           2        1.0   \n",
       "6           2333.0             1516.0             1.0           0        0.0   \n",
       "7           3036.0             2504.0             0.0           3        1.0   \n",
       "\n",
       "   Gender  LoanAmount  Loan_Amount_Term   Loan_ID  Loan_Status  Married  \\\n",
       "1     1.0       128.0             360.0  LP001003          0.0      1.0   \n",
       "3     1.0       120.0             360.0  LP001006          1.0      1.0   \n",
       "5     1.0       267.0             360.0  LP001011          1.0      1.0   \n",
       "6     1.0        95.0             360.0  LP001013          1.0      1.0   \n",
       "7     1.0       158.0             360.0  LP001014          0.0      1.0   \n",
       "\n",
       "   Property_Area  Self_Employed  TotalIncome  TotalIncome_log  LoanAmount_log  \\\n",
       "1            1.0            0.0       6091.0         8.714568        4.852030   \n",
       "3            3.0            0.0       4941.0         8.505323        4.787492   \n",
       "5            3.0            1.0       9613.0         9.170872        5.587249   \n",
       "6            3.0            0.0       3849.0         8.255569        4.553877   \n",
       "7            2.0            0.0       5540.0         8.619750        5.062595   \n",
       "\n",
       "   IncomeLoanAmount_Ratio  IARatio_log  AmountTerm_Ratio  \n",
       "1               47.585938     3.862537          2.812500  \n",
       "3               41.175000     3.717831          3.000000  \n",
       "5               36.003745     3.583623          1.348315  \n",
       "6               40.515789     3.701692          3.789474  \n",
       "7               35.063291     3.557155          2.278481  "
      ]
     },
     "execution_count": 59,
     "metadata": {},
     "output_type": "execute_result"
    }
   ],
   "source": [
    "# Split data back into train and test sets on 'source'\n",
    "train = df.loc[df['source']=='train']\n",
    "test = df.loc[df['source']=='test']\n",
    "train.drop(['source'], axis=1, inplace=True)\n",
    "test.drop(['source', 'Loan_Status'], axis=1, inplace=True)\n",
    "train.head()"
   ]
  },
  {
   "cell_type": "code",
   "execution_count": 60,
   "metadata": {},
   "outputs": [
    {
     "data": {
      "text/html": [
       "<div>\n",
       "<style>\n",
       "    .dataframe thead tr:only-child th {\n",
       "        text-align: right;\n",
       "    }\n",
       "\n",
       "    .dataframe thead th {\n",
       "        text-align: left;\n",
       "    }\n",
       "\n",
       "    .dataframe tbody tr th {\n",
       "        vertical-align: top;\n",
       "    }\n",
       "</style>\n",
       "<table border=\"1\" class=\"dataframe\">\n",
       "  <thead>\n",
       "    <tr style=\"text-align: right;\">\n",
       "      <th></th>\n",
       "      <th>ApplicantIncome</th>\n",
       "      <th>CoapplicantIncome</th>\n",
       "      <th>Credit_History</th>\n",
       "      <th>Dependents</th>\n",
       "      <th>Education</th>\n",
       "      <th>Gender</th>\n",
       "      <th>LoanAmount</th>\n",
       "      <th>Loan_Amount_Term</th>\n",
       "      <th>Loan_ID</th>\n",
       "      <th>Married</th>\n",
       "      <th>Property_Area</th>\n",
       "      <th>Self_Employed</th>\n",
       "      <th>TotalIncome</th>\n",
       "      <th>TotalIncome_log</th>\n",
       "      <th>LoanAmount_log</th>\n",
       "      <th>IncomeLoanAmount_Ratio</th>\n",
       "      <th>IARatio_log</th>\n",
       "      <th>AmountTerm_Ratio</th>\n",
       "    </tr>\n",
       "  </thead>\n",
       "  <tbody>\n",
       "    <tr>\n",
       "      <th>616</th>\n",
       "      <td>5000.0</td>\n",
       "      <td>1800.0</td>\n",
       "      <td>1.0</td>\n",
       "      <td>2</td>\n",
       "      <td>1.0</td>\n",
       "      <td>1.0</td>\n",
       "      <td>208.0</td>\n",
       "      <td>360.0</td>\n",
       "      <td>LP001031</td>\n",
       "      <td>1.0</td>\n",
       "      <td>3.0</td>\n",
       "      <td>0.0</td>\n",
       "      <td>6800.0</td>\n",
       "      <td>8.824678</td>\n",
       "      <td>5.337538</td>\n",
       "      <td>32.692308</td>\n",
       "      <td>3.487140</td>\n",
       "      <td>1.730769</td>\n",
       "    </tr>\n",
       "    <tr>\n",
       "      <th>617</th>\n",
       "      <td>2340.0</td>\n",
       "      <td>2546.0</td>\n",
       "      <td>2.0</td>\n",
       "      <td>2</td>\n",
       "      <td>1.0</td>\n",
       "      <td>1.0</td>\n",
       "      <td>100.0</td>\n",
       "      <td>360.0</td>\n",
       "      <td>LP001035</td>\n",
       "      <td>1.0</td>\n",
       "      <td>3.0</td>\n",
       "      <td>0.0</td>\n",
       "      <td>4886.0</td>\n",
       "      <td>8.494129</td>\n",
       "      <td>4.605170</td>\n",
       "      <td>48.860000</td>\n",
       "      <td>3.888959</td>\n",
       "      <td>3.600000</td>\n",
       "    </tr>\n",
       "    <tr>\n",
       "      <th>619</th>\n",
       "      <td>2165.0</td>\n",
       "      <td>3422.0</td>\n",
       "      <td>1.0</td>\n",
       "      <td>0</td>\n",
       "      <td>0.0</td>\n",
       "      <td>1.0</td>\n",
       "      <td>152.0</td>\n",
       "      <td>360.0</td>\n",
       "      <td>LP001054</td>\n",
       "      <td>1.0</td>\n",
       "      <td>3.0</td>\n",
       "      <td>1.0</td>\n",
       "      <td>5587.0</td>\n",
       "      <td>8.628198</td>\n",
       "      <td>5.023881</td>\n",
       "      <td>36.756579</td>\n",
       "      <td>3.604317</td>\n",
       "      <td>2.368421</td>\n",
       "    </tr>\n",
       "    <tr>\n",
       "      <th>620</th>\n",
       "      <td>2226.0</td>\n",
       "      <td>0.0</td>\n",
       "      <td>1.0</td>\n",
       "      <td>1</td>\n",
       "      <td>0.0</td>\n",
       "      <td>0.0</td>\n",
       "      <td>59.0</td>\n",
       "      <td>360.0</td>\n",
       "      <td>LP001055</td>\n",
       "      <td>0.0</td>\n",
       "      <td>2.0</td>\n",
       "      <td>0.0</td>\n",
       "      <td>2226.0</td>\n",
       "      <td>7.707962</td>\n",
       "      <td>4.077537</td>\n",
       "      <td>37.728814</td>\n",
       "      <td>3.630424</td>\n",
       "      <td>6.101695</td>\n",
       "    </tr>\n",
       "    <tr>\n",
       "      <th>621</th>\n",
       "      <td>3881.0</td>\n",
       "      <td>0.0</td>\n",
       "      <td>0.0</td>\n",
       "      <td>2</td>\n",
       "      <td>0.0</td>\n",
       "      <td>1.0</td>\n",
       "      <td>147.0</td>\n",
       "      <td>360.0</td>\n",
       "      <td>LP001056</td>\n",
       "      <td>1.0</td>\n",
       "      <td>1.0</td>\n",
       "      <td>0.0</td>\n",
       "      <td>3881.0</td>\n",
       "      <td>8.263848</td>\n",
       "      <td>4.990433</td>\n",
       "      <td>26.401361</td>\n",
       "      <td>3.273416</td>\n",
       "      <td>2.448980</td>\n",
       "    </tr>\n",
       "  </tbody>\n",
       "</table>\n",
       "</div>"
      ],
      "text/plain": [
       "     ApplicantIncome  CoapplicantIncome  Credit_History  Dependents  \\\n",
       "616           5000.0             1800.0             1.0           2   \n",
       "617           2340.0             2546.0             2.0           2   \n",
       "619           2165.0             3422.0             1.0           0   \n",
       "620           2226.0                0.0             1.0           1   \n",
       "621           3881.0                0.0             0.0           2   \n",
       "\n",
       "     Education  Gender  LoanAmount  Loan_Amount_Term   Loan_ID  Married  \\\n",
       "616        1.0     1.0       208.0             360.0  LP001031      1.0   \n",
       "617        1.0     1.0       100.0             360.0  LP001035      1.0   \n",
       "619        0.0     1.0       152.0             360.0  LP001054      1.0   \n",
       "620        0.0     0.0        59.0             360.0  LP001055      0.0   \n",
       "621        0.0     1.0       147.0             360.0  LP001056      1.0   \n",
       "\n",
       "     Property_Area  Self_Employed  TotalIncome  TotalIncome_log  \\\n",
       "616            3.0            0.0       6800.0         8.824678   \n",
       "617            3.0            0.0       4886.0         8.494129   \n",
       "619            3.0            1.0       5587.0         8.628198   \n",
       "620            2.0            0.0       2226.0         7.707962   \n",
       "621            1.0            0.0       3881.0         8.263848   \n",
       "\n",
       "     LoanAmount_log  IncomeLoanAmount_Ratio  IARatio_log  AmountTerm_Ratio  \n",
       "616        5.337538               32.692308     3.487140          1.730769  \n",
       "617        4.605170               48.860000     3.888959          3.600000  \n",
       "619        5.023881               36.756579     3.604317          2.368421  \n",
       "620        4.077537               37.728814     3.630424          6.101695  \n",
       "621        4.990433               26.401361     3.273416          2.448980  "
      ]
     },
     "execution_count": 60,
     "metadata": {},
     "output_type": "execute_result"
    }
   ],
   "source": [
    "test.head()"
   ]
  },
  {
   "cell_type": "code",
   "execution_count": 61,
   "metadata": {
    "collapsed": true
   },
   "outputs": [],
   "source": [
    "# Write new train and test sets to csv files\n",
    "train.to_csv(\"train_new.csv\", index=False)\n",
    "test.to_csv(\"test_new.csv\", index=False)"
   ]
  },
  {
   "cell_type": "code",
   "execution_count": 62,
   "metadata": {
    "collapsed": true
   },
   "outputs": [],
   "source": [
    "# We won't need the Loan_ID column for our classification models\n",
    "train1 = train.drop('Loan_ID', axis=1)\n",
    "test1 = test.drop('Loan_ID', axis=1)"
   ]
  },
  {
   "cell_type": "markdown",
   "metadata": {},
   "source": [
    "  -----  \n",
    "  ### KNN Classification"
   ]
  },
  {
   "cell_type": "code",
   "execution_count": 63,
   "metadata": {},
   "outputs": [
    {
     "data": {
      "text/plain": [
       "KNeighborsClassifier(algorithm='auto', leaf_size=30, metric='minkowski',\n",
       "           metric_params=None, n_jobs=1, n_neighbors=25, p=2,\n",
       "           weights='uniform')"
      ]
     },
     "execution_count": 63,
     "metadata": {},
     "output_type": "execute_result"
    }
   ],
   "source": [
    "from sklearn.model_selection import train_test_split\n",
    "from sklearn.neighbors import KNeighborsClassifier\n",
    "from sklearn.metrics import accuracy_score\n",
    "\n",
    "# target\n",
    "y = train1.Loan_Status.values\n",
    "# features\n",
    "X = train1.drop('Loan_Status', axis=1).values\n",
    "\n",
    "# train_test_split\n",
    "X_train, X_test, y_train, y_test = train_test_split(\n",
    "    X, y, test_size = 0.3, random_state = 63)\n",
    "#y_train = y_train.ravel()\n",
    "#y_test = y_test.ravel()\n",
    "\n",
    "knn = KNeighborsClassifier(n_neighbors=25)\n",
    "\n",
    "knn.fit(X_train, y_train)"
   ]
  },
  {
   "cell_type": "code",
   "execution_count": 64,
   "metadata": {
    "scrolled": true
   },
   "outputs": [
    {
     "name": "stdout",
     "output_type": "stream",
     "text": [
      "KNN Accuracy\n",
      "\n",
      "Accuracy is  53.5135135135 % for K-Value: 1\n",
      "Accuracy is  46.4864864865 % for K-Value: 2\n",
      "Accuracy is  58.3783783784 % for K-Value: 3\n",
      "Accuracy is  53.5135135135 % for K-Value: 4\n",
      "Accuracy is  61.6216216216 % for K-Value: 5\n",
      "Accuracy is  55.1351351351 % for K-Value: 6\n",
      "Accuracy is  59.4594594595 % for K-Value: 7\n",
      "Accuracy is  60.0 % for K-Value: 8\n",
      "Accuracy is  64.8648648649 % for K-Value: 9\n",
      "Accuracy is  64.8648648649 % for K-Value: 10\n",
      "Accuracy is  65.4054054054 % for K-Value: 11\n",
      "Accuracy is  64.8648648649 % for K-Value: 12\n",
      "Accuracy is  64.8648648649 % for K-Value: 13\n",
      "Accuracy is  65.9459459459 % for K-Value: 14\n",
      "Accuracy is  64.3243243243 % for K-Value: 15\n",
      "Accuracy is  65.9459459459 % for K-Value: 16\n",
      "Accuracy is  65.4054054054 % for K-Value: 17\n",
      "Accuracy is  67.027027027 % for K-Value: 18\n",
      "Accuracy is  66.4864864865 % for K-Value: 19\n",
      "Accuracy is  66.4864864865 % for K-Value: 20\n",
      "Accuracy is  65.9459459459 % for K-Value: 21\n",
      "Accuracy is  65.9459459459 % for K-Value: 22\n",
      "Accuracy is  65.4054054054 % for K-Value: 23\n",
      "Accuracy is  65.4054054054 % for K-Value: 24\n",
      "Accuracy is  65.4054054054 % for K-Value: 25\n"
     ]
    }
   ],
   "source": [
    "y_pred = knn.predict(X_test)\n",
    "print('KNN Accuracy\\n')\n",
    "for K in range(25):\n",
    " K_value = K+1\n",
    " knn = KNeighborsClassifier(n_neighbors = K_value, weights='uniform', algorithm='auto')\n",
    " knn.fit(X_train, y_train) \n",
    " y_pred = knn.predict(X_test)\n",
    " print('Accuracy is ', accuracy_score(y_test,y_pred)*100, '% for K-Value:', K_value)"
   ]
  },
  {
   "cell_type": "markdown",
   "metadata": {},
   "source": [
    "  -----  \n",
    "  ### Logistic Regression"
   ]
  },
  {
   "cell_type": "code",
   "execution_count": 65,
   "metadata": {},
   "outputs": [
    {
     "name": "stdout",
     "output_type": "stream",
     "text": [
      "Logistic Regression on all \n",
      " Accuracy is  77.2972972973 %\n"
     ]
    }
   ],
   "source": [
    "from sklearn.linear_model import LogisticRegression\n",
    "\n",
    "logreg = LogisticRegression()\n",
    "\n",
    "logreg.fit(X_train, y_train)\n",
    "\n",
    "y_pred = logreg.predict(X_test)\n",
    "\n",
    "score = logreg.score(X_test, y_test)\n",
    "print('Logistic Regression on all \\n Accuracy is ', score*100, '%')"
   ]
  },
  {
   "cell_type": "markdown",
   "metadata": {},
   "source": [
    "  -----  \n",
    "  ### Decision Tree"
   ]
  },
  {
   "cell_type": "code",
   "execution_count": 66,
   "metadata": {},
   "outputs": [
    {
     "name": "stdout",
     "output_type": "stream",
     "text": [
      "Decision Tree on * \n",
      " Accuracy is  69.1891891892 %\n"
     ]
    }
   ],
   "source": [
    "from sklearn.tree import DecisionTreeClassifier\n",
    "\n",
    "dt = DecisionTreeClassifier()\n",
    "\n",
    "dt.fit(X_train, y_train)\n",
    "\n",
    "y_pred = dt.predict(X_test)\n",
    "\n",
    "score = dt.score(X_test, y_test)\n",
    "print('Decision Tree on * \\n Accuracy is ', score*100, '%')"
   ]
  },
  {
   "cell_type": "markdown",
   "metadata": {},
   "source": [
    "  -----  \n",
    "  ### Random Forest"
   ]
  },
  {
   "cell_type": "code",
   "execution_count": 67,
   "metadata": {},
   "outputs": [
    {
     "name": "stdout",
     "output_type": "stream",
     "text": [
      "Random Forest on * \n",
      " Accuracy is  81.0810810811 %\n"
     ]
    }
   ],
   "source": [
    "from sklearn.ensemble import RandomForestClassifier\n",
    "rf = RandomForestClassifier(n_estimators=100)\n",
    "rf.fit(X_train, y_train)\n",
    "y_pred = rf.predict(X_test)\n",
    "score = rf.score(X_test, y_test)\n",
    "print('Random Forest on * \\n Accuracy is ', score*100, '%')"
   ]
  },
  {
   "cell_type": "code",
   "execution_count": 68,
   "metadata": {
    "collapsed": true
   },
   "outputs": [],
   "source": [
    "# In a function for quick fitting and prediction:\n",
    "def run_classification(model, model_name):\n",
    "    model.fit(X_train, y_train)\n",
    "    y_pred = model.predict(X_test)\n",
    "    score = model.score(X_test, y_test)\n",
    "    print(model_name, 'on * \\n Accuracy is', score*100, '%')"
   ]
  },
  {
   "cell_type": "code",
   "execution_count": 69,
   "metadata": {},
   "outputs": [
    {
     "name": "stdout",
     "output_type": "stream",
     "text": [
      "RandomForest on * \n",
      " Accuracy is 80.0 %\n",
      "DecisionTree on * \n",
      " Accuracy is 69.1891891892 %\n",
      "LogisticRegression on * \n",
      " Accuracy is 77.2972972973 %\n"
     ]
    }
   ],
   "source": [
    "run_classification(rf, 'RandomForest')\n",
    "run_classification(dt, 'DecisionTree')\n",
    "run_classification(logreg, 'LogisticRegression')"
   ]
  },
  {
   "cell_type": "markdown",
   "metadata": {
    "collapsed": true
   },
   "source": [
    "  -----  \n",
    "*Quick note here.*  \n",
    "Scikit Learn is very convenient in that different models take the same methods (fit, predict, etc.), so actually you can create a function that fits, predicts, and scores models all at once when passed the model to use, the predictor variables (X), and the outcome variable (y).  \n",
    "It's a more efficient way to check a number of classification models quickly to find the best one for your dataset.  \n",
    "Above I am fitting, predicting, and scoring each model individually merely for the sake of practice, and in order to fully display all steps for the sake of creating an educational presentation of my data analysis.  \n",
    "  \n",
    "Who knows though, perhaps I'll change it to make it short later on...  "
   ]
  },
  {
   "cell_type": "markdown",
   "metadata": {},
   "source": [
    "[Edit] *In fact, yes*, let's experiment with this function (below) in order to cross-check our models to ward off overfitting mistakes, and also so that we can efficiently try out a number of combinations of explanatory variables interactively, merely by modifying the arguments to the general classification function.  \n",
    "The following is based on a similar function from the Analytics Vidhya website (the host of this data classification contest).  "
   ]
  },
  {
   "cell_type": "code",
   "execution_count": 72,
   "metadata": {},
   "outputs": [
    {
     "name": "stderr",
     "output_type": "stream",
     "text": [
      "C:\\ProgramData\\Anaconda3\\lib\\site-packages\\sklearn\\cross_validation.py:41: DeprecationWarning: This module was deprecated in version 0.18 in favor of the model_selection module into which all the refactored classes and functions are moved. Also note that the interface of the new CV iterators are different from that of this module. This module will be removed in 0.20.\n",
      "  \"This module will be removed in 0.20.\", DeprecationWarning)\n"
     ]
    }
   ],
   "source": [
    "from sklearn.cross_validation import KFold\n",
    "\n",
    "def classification_model(model, data, predictors, outcome):\n",
    "  #Fit the model:\n",
    "  model.fit(data[predictors],data[outcome])\n",
    "  \n",
    "  #Make predictions on training set:\n",
    "  predictions = model.predict(data[predictors])\n",
    "  \n",
    "  #Print accuracy\n",
    "  accuracy = accuracy_score(predictions,data[outcome])\n",
    "  print('Accuracy : %s' % '{0:.3%}'.format(accuracy))\n",
    "\n",
    "  #Perform k-fold cross-validation with 5 folds\n",
    "  kf = KFold(data.shape[0], n_folds=5)\n",
    "  error = []\n",
    "  for train, test in kf:\n",
    "    # Filter training data\n",
    "    train_predictors = (data[predictors].iloc[train,:])\n",
    "    \n",
    "    # The target we're using to train the algorithm.\n",
    "    train_target = data[outcome].iloc[train]\n",
    "    \n",
    "    # Training the algorithm using the predictors and target.\n",
    "    model.fit(train_predictors, train_target)\n",
    "    \n",
    "    #Record error from each cross-validation run\n",
    "    error.append(model.score(data[predictors].iloc[test,:], data[outcome].iloc[test]))\n",
    " \n",
    "  print('Cross-Validation Score : %s' % '{0:.3%}'.format(np.mean(error)))\n",
    "\n",
    "  #Fit the model again so that it can be refered outside the function:\n",
    "  model.fit(data[predictors],data[outcome])"
   ]
  },
  {
   "cell_type": "code",
   "execution_count": 73,
   "metadata": {},
   "outputs": [
    {
     "name": "stdout",
     "output_type": "stream",
     "text": [
      "Accuracy : 100.000%\n",
      "Cross-Validation Score : 100.000%\n",
      "\n",
      "Feature Importances:\n",
      " Loan_Status               0.661360\n",
      "Credit_History            0.145783\n",
      "IncomeLoanAmount_Ratio    0.026735\n",
      "IARatio_log               0.026580\n",
      "TotalIncome_log           0.020357\n",
      "TotalIncome               0.020344\n",
      "ApplicantIncome           0.020127\n",
      "LoanAmount                0.015382\n",
      "LoanAmount_log            0.013976\n",
      "CoapplicantIncome         0.012284\n",
      "AmountTerm_Ratio          0.012154\n",
      "Property_Area             0.006087\n",
      "Married                   0.004720\n",
      "Dependents                0.004329\n",
      "Loan_Amount_Term          0.003763\n",
      "Education                 0.002869\n",
      "Gender                    0.001748\n",
      "Self_Employed             0.001403\n",
      "dtype: float64\n"
     ]
    }
   ],
   "source": [
    "# So now we can simply do this:\n",
    "model = rf\n",
    "predictors = train1.columns.values\n",
    "outcome = 'Loan_Status'\n",
    "classification_model(model, train1, predictors, outcome)\n",
    "\n",
    "# Display series of feature importances:\n",
    "featimp = pd.Series(model.feature_importances_, index=predictors).sort_values(ascending=False)\n",
    "print('\\nFeature Importances:\\n', featimp)"
   ]
  },
  {
   "cell_type": "markdown",
   "metadata": {},
   "source": [
    "And then pick and choose features to include in order to reduce overfitting.  \n",
    "It turns out the features we created ourselves show up as some of the most  \n",
    "influential in our model, after credit history.  "
   ]
  },
  {
   "cell_type": "code",
   "execution_count": 74,
   "metadata": {},
   "outputs": [
    {
     "name": "stdout",
     "output_type": "stream",
     "text": [
      "Accuracy : 100.000%\n",
      "Cross-Validation Score : 77.370%\n",
      "\n",
      "Feature Importances:\n",
      " Credit_History            0.304533\n",
      "TotalIncome_log           0.244473\n",
      "IARatio_log               0.226488\n",
      "IncomeLoanAmount_Ratio    0.224506\n",
      "dtype: float64\n"
     ]
    }
   ],
   "source": [
    "# Fit random forest on specific variables\n",
    "model = rf\n",
    "predictors = ['Credit_History', 'IARatio_log', 'IncomeLoanAmount_Ratio', 'TotalIncome_log']\n",
    "outcome = 'Loan_Status'\n",
    "classification_model(model, train1, predictors, outcome)\n",
    "# Display series of feature importances:\n",
    "featimp = pd.Series(model.feature_importances_, index=predictors).sort_values(ascending=False)\n",
    "print('\\nFeature Importances:\\n', featimp)"
   ]
  },
  {
   "cell_type": "code",
   "execution_count": 75,
   "metadata": {},
   "outputs": [
    {
     "name": "stdout",
     "output_type": "stream",
     "text": [
      "Accuracy : 81.270%\n",
      "Cross-Validation Score : 81.113%\n"
     ]
    }
   ],
   "source": [
    "# Try decision tree, here with a slightly different set of features\n",
    "model = dt\n",
    "predictors = ['Credit_History', 'Gender', 'Married', 'Education']\n",
    "outcome = 'Loan_Status'\n",
    "classification_model(model, train1, predictors, outcome)"
   ]
  },
  {
   "cell_type": "code",
   "execution_count": 76,
   "metadata": {},
   "outputs": [
    {
     "name": "stdout",
     "output_type": "stream",
     "text": [
      "Accuracy : 80.945%\n",
      "Cross-Validation Score : 80.949%\n"
     ]
    }
   ],
   "source": [
    "# Or check logistic regression with the variables below\n",
    "model = logreg\n",
    "predictors = ['Credit_History', 'TotalIncome_log', 'IncomeLoanAmount_Ratio']\n",
    "outcome = 'Loan_Status'\n",
    "classification_model(model, train1, predictors, outcome)"
   ]
  },
  {
   "cell_type": "markdown",
   "metadata": {
    "collapsed": true
   },
   "source": [
    "###### After testing a number of combinations, ~81% accuracy is what we tend to be getting with these models.  \n",
    "###### Also, the relatively simple logistic regression model is doing just as well.  \n",
    "###### Overfitting proves to be a major factor in these kinds of classification sets,  \n",
    "###### so often the simplest models work best in terms of predicting new data"
   ]
  },
  {
   "cell_type": "code",
   "execution_count": null,
   "metadata": {},
   "outputs": [],
   "source": []
  },
  {
   "cell_type": "code",
   "execution_count": null,
   "metadata": {
    "collapsed": true
   },
   "outputs": [],
   "source": []
  }
 ],
 "metadata": {
  "kernelspec": {
   "display_name": "Python 3",
   "language": "python",
   "name": "python3"
  },
  "language_info": {
   "codemirror_mode": {
    "name": "ipython",
    "version": 3
   },
   "file_extension": ".py",
   "mimetype": "text/x-python",
   "name": "python",
   "nbconvert_exporter": "python",
   "pygments_lexer": "ipython3",
   "version": "3.6.3"
  }
 },
 "nbformat": 4,
 "nbformat_minor": 2
}
